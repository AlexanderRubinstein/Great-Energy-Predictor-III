{
 "cells": [
  {
   "cell_type": "markdown",
   "metadata": {},
   "source": [
    "## Description"
   ]
  },
  {
   "cell_type": "markdown",
   "metadata": {},
   "source": [
    "### Problem"
   ]
  },
  {
   "cell_type": "markdown",
   "metadata": {},
   "source": [
    "#### Objective:\n",
    "Energy savings is one of the important area of focus our current world. Energy savings has two key elements:\n",
    "\n",
    "* Forecasting future energy usage without improvements\n",
    "* Forecasting energy use after a specific set of improvements have been implemented\n",
    "\n",
    "Once we have implemented a set of improvements, the value of energy efficiency improvements can be challenging as there's no way to truly know **how much energy a building would have used without the improvements**. The best we can do is to build counterfactual models. \n",
    "\n",
    "We build these counterfactual models across four energy types:\n",
    "* **chilled water**\n",
    "* **electricity**\n",
    "* **hot water**\n",
    "* **steam**\n",
    "\n",
    "based on historic usage rates and observed weather."
   ]
  },
  {
   "cell_type": "markdown",
   "metadata": {},
   "source": [
    "### Data"
   ]
  },
  {
   "cell_type": "markdown",
   "metadata": {},
   "source": [
    "#### Dataset:\n",
    "The dataset includes three years of hourly meter readings from over one thousand buildings at several different sites around the world.\n",
    "\n",
    "##### train.csv\n",
    "\n",
    "* `building_id` - Foreign key for the building metadata.\n",
    "* `meter` - The meter id code. Read as {0: electricity, 1: chilledwater, 2: steam, 3: hotwater}. Not every building has all meter types.\n",
    "* `timestamp` - When the measurement was taken\n",
    "* `meter_reading` - The target variable. Energy consumption in kWh (or equivalent). Note that this is real data with measurement error, which we expect will impose a baseline level of modeling error.\n",
    "\n",
    "##### building_meta.csv\n",
    "\n",
    "* `site_id` - Foreign key for the weather files.\n",
    "* `building_id` - Foreign key for training.csv\n",
    "* `primary_use` - Indicator of the primary category of activities for the building based on EnergyStar property type definitions\n",
    "* `square_feet` - Gross floor area of the building\n",
    "* `year_built` - Year building was opened\n",
    "* `floor_count` - Number of floors of the building\n",
    "\n",
    "##### weather_[train/test].csv\n",
    "\n",
    "Weather data from a meteorological station as close as possible to the site.\n",
    "\n",
    "* `site_id`\n",
    "* `air_temperature` - Degrees Celsius\n",
    "* `cloud_coverage` - Portion of the sky covered in clouds, in oktas\n",
    "* `dew_temperature` - Degrees Celsius\n",
    "* `precip_depth_1_hr` - Millimeters\n",
    "* `sea_level_pressure` - Millibar/hectopascals\n",
    "* `wind_direction` - Compass direction (0-360)\n",
    "* `wind_speed` - Meters per second\n",
    "\n",
    "##### test.csv\n",
    "\n",
    "The submission files use row numbers for ID codes in order to save space on the file uploads. test.csv has no feature data; it exists so you can get your predictions into the correct order.\n",
    "\n",
    "* `row_id` - Row id for your submission file\n",
    "* `building_id` - Building id code\n",
    "* `meter` - The meter id code\n",
    "* `timestamp` - Timestamps for the test data period"
   ]
  },
  {
   "cell_type": "markdown",
   "metadata": {},
   "source": [
    "## Loading Data"
   ]
  },
  {
   "cell_type": "markdown",
   "metadata": {},
   "source": [
    "#### TO DO:\n",
    "\n",
    "* load data tables\n",
    "\n",
    "\n",
    "* join train and metadata tables\n",
    "* join train and weather tables"
   ]
  },
  {
   "cell_type": "code",
   "execution_count": 1,
   "metadata": {},
   "outputs": [],
   "source": [
    "import pandas as pd\n",
    "import os"
   ]
  },
  {
   "cell_type": "code",
   "execution_count": null,
   "metadata": {},
   "outputs": [],
   "source": [
    "%%time\n",
    "building_metadata = pd.read_csv('data' + os.sep + 'building_metadata.csv')"
   ]
  },
  {
   "cell_type": "code",
   "execution_count": null,
   "metadata": {},
   "outputs": [],
   "source": [
    "%%time\n",
    "train = pd.read_csv('data' + os.sep + 'train.csv')"
   ]
  },
  {
   "cell_type": "code",
   "execution_count": null,
   "metadata": {},
   "outputs": [],
   "source": [
    "%%time\n",
    "test = pd.read_csv('data' + os.sep + 'test.csv')"
   ]
  },
  {
   "cell_type": "code",
   "execution_count": null,
   "metadata": {},
   "outputs": [],
   "source": [
    "# weather_train = pd.read_csv('data' + os.sep + 'weather_train.csv')"
   ]
  },
  {
   "cell_type": "code",
   "execution_count": null,
   "metadata": {},
   "outputs": [],
   "source": [
    "# weather_test = pd.read_csv('data' + os.sep + 'weather_test.csv')"
   ]
  },
  {
   "cell_type": "code",
   "execution_count": null,
   "metadata": {},
   "outputs": [],
   "source": [
    "# rename timestamps columns\n",
    "# train.columns = ['building_id', 'meter', 'timestamp_meter', 'meter_reading']\n",
    "# test.columns = ['row_id', 'building_id', 'meter', 'timestamp_meter']\n",
    "\n",
    "# weather_train.columns = ['site_id', 'timestamp_weather', 'air_temperature', 'cloud_coverage', 'dew_temperature', \\\n",
    "#                         'precip_depth_1_hr', 'sea_level_pressure', 'wind_direction', 'wind_speed']\n",
    "# weather_test.columns = ['site_id', 'timestamp_weather', 'air_temperature', 'cloud_coverage', 'dew_temperature', \\\n",
    "#                         'precip_depth_1_hr', 'sea_level_pressure', 'wind_direction', 'wind_speed']"
   ]
  },
  {
   "cell_type": "code",
   "execution_count": null,
   "metadata": {},
   "outputs": [],
   "source": [
    "test_data = building_metadata.copy()\n",
    "train_data = building_metadata.copy()"
   ]
  },
  {
   "cell_type": "code",
   "execution_count": null,
   "metadata": {
    "scrolled": true
   },
   "outputs": [],
   "source": [
    "test_data = test_data.join(test.set_index('building_id'), on='building_id', how='inner')\n",
    "test_data.head()"
   ]
  },
  {
   "cell_type": "code",
   "execution_count": null,
   "metadata": {},
   "outputs": [],
   "source": [
    "test_data.shape"
   ]
  },
  {
   "cell_type": "code",
   "execution_count": null,
   "metadata": {
    "scrolled": false
   },
   "outputs": [],
   "source": [
    "train_data = train_data.join(train.set_index('building_id'), on='building_id', how='inner')\n",
    "train_data.head()"
   ]
  },
  {
   "cell_type": "code",
   "execution_count": null,
   "metadata": {},
   "outputs": [],
   "source": [
    "train_data.shape"
   ]
  },
  {
   "cell_type": "code",
   "execution_count": null,
   "metadata": {},
   "outputs": [],
   "source": [
    "# train_data = train_data.join(weather_train.set_index('site_id'), on='site_id', how='inner')"
   ]
  },
  {
   "cell_type": "code",
   "execution_count": null,
   "metadata": {},
   "outputs": [],
   "source": [
    "# test_data = test_data.join(weather_test.set_index('site_id'), on='site_id', how='inner')"
   ]
  },
  {
   "cell_type": "markdown",
   "metadata": {},
   "source": [
    "## Preprocessing"
   ]
  },
  {
   "cell_type": "markdown",
   "metadata": {},
   "source": [
    "### Data Cleaning"
   ]
  },
  {
   "cell_type": "code",
   "execution_count": null,
   "metadata": {},
   "outputs": [],
   "source": [
    "# import numpy as np"
   ]
  },
  {
   "cell_type": "markdown",
   "metadata": {
    "nbgrader": {
     "grade": false,
     "grade_id": "cell-6ad9385669a931bb",
     "locked": false,
     "schema_version": 3,
     "solution": true,
     "task": false
    }
   },
   "source": [
    "#### TO DO:\n",
    "\n",
    "* NaNs counting\n",
    "* How to fill in the blanks?\n",
    "\n",
    "\n",
    "* Some columns processing (LabelEncoder)\n",
    "* Split table into features and targets"
   ]
  },
  {
   "cell_type": "code",
   "execution_count": null,
   "metadata": {},
   "outputs": [],
   "source": [
    "# import matplotlib.pyplot as plt\n",
    "# %matplotlib inline\n",
    "# import seaborn as sns"
   ]
  },
  {
   "cell_type": "code",
   "execution_count": null,
   "metadata": {},
   "outputs": [],
   "source": [
    "# from sklearn.preprocessing import LabelEncoder"
   ]
  },
  {
   "cell_type": "markdown",
   "metadata": {},
   "source": [
    "### Statistics"
   ]
  },
  {
   "cell_type": "markdown",
   "metadata": {},
   "source": [
    "Create powers of features"
   ]
  },
  {
   "cell_type": "code",
   "execution_count": 28,
   "metadata": {},
   "outputs": [
    {
     "data": {
      "text/html": [
       "<div>\n",
       "<style scoped>\n",
       "    .dataframe tbody tr th:only-of-type {\n",
       "        vertical-align: middle;\n",
       "    }\n",
       "\n",
       "    .dataframe tbody tr th {\n",
       "        vertical-align: top;\n",
       "    }\n",
       "\n",
       "    .dataframe thead th {\n",
       "        text-align: right;\n",
       "    }\n",
       "</style>\n",
       "<table border=\"1\" class=\"dataframe\">\n",
       "  <thead>\n",
       "    <tr style=\"text-align: right;\">\n",
       "      <th></th>\n",
       "      <th>feature_A</th>\n",
       "      <th>feature_B</th>\n",
       "      <th>feature_C</th>\n",
       "      <th>target</th>\n",
       "    </tr>\n",
       "  </thead>\n",
       "  <tbody>\n",
       "    <tr>\n",
       "      <th>0</th>\n",
       "      <td>-0.276266</td>\n",
       "      <td>-1.363531</td>\n",
       "      <td>1.141972</td>\n",
       "      <td>3.084321</td>\n",
       "    </tr>\n",
       "    <tr>\n",
       "      <th>1</th>\n",
       "      <td>1.228568</td>\n",
       "      <td>0.934238</td>\n",
       "      <td>0.169371</td>\n",
       "      <td>-1.204244</td>\n",
       "    </tr>\n",
       "    <tr>\n",
       "      <th>2</th>\n",
       "      <td>-0.311481</td>\n",
       "      <td>-0.442845</td>\n",
       "      <td>0.957666</td>\n",
       "      <td>-0.519126</td>\n",
       "    </tr>\n",
       "    <tr>\n",
       "      <th>3</th>\n",
       "      <td>-0.067255</td>\n",
       "      <td>-0.727609</td>\n",
       "      <td>-0.387329</td>\n",
       "      <td>0.306151</td>\n",
       "    </tr>\n",
       "    <tr>\n",
       "      <th>4</th>\n",
       "      <td>1.758382</td>\n",
       "      <td>-0.524746</td>\n",
       "      <td>0.142666</td>\n",
       "      <td>1.018753</td>\n",
       "    </tr>\n",
       "  </tbody>\n",
       "</table>\n",
       "</div>"
      ],
      "text/plain": [
       "   feature_A  feature_B  feature_C    target\n",
       "0  -0.276266  -1.363531   1.141972  3.084321\n",
       "1   1.228568   0.934238   0.169371 -1.204244\n",
       "2  -0.311481  -0.442845   0.957666 -0.519126\n",
       "3  -0.067255  -0.727609  -0.387329  0.306151\n",
       "4   1.758382  -0.524746   0.142666  1.018753"
      ]
     },
     "execution_count": 28,
     "metadata": {},
     "output_type": "execute_result"
    }
   ],
   "source": [
    "import pandas as pd\n",
    "import numpy as np\n",
    "df = pd.DataFrame(np.random.randn(100, 4), columns=['feature_A', 'feature_B', 'feature_C', 'target'])\n",
    "df.head() "
   ]
  },
  {
   "cell_type": "code",
   "execution_count": 29,
   "metadata": {},
   "outputs": [],
   "source": [
    "target = df['target']\n",
    "features = df.drop(['target'],axis=1)\n"
   ]
  },
  {
   "cell_type": "code",
   "execution_count": 73,
   "metadata": {},
   "outputs": [
    {
     "data": {
      "text/html": [
       "<div>\n",
       "<style scoped>\n",
       "    .dataframe tbody tr th:only-of-type {\n",
       "        vertical-align: middle;\n",
       "    }\n",
       "\n",
       "    .dataframe tbody tr th {\n",
       "        vertical-align: top;\n",
       "    }\n",
       "\n",
       "    .dataframe thead th {\n",
       "        text-align: right;\n",
       "    }\n",
       "</style>\n",
       "<table border=\"1\" class=\"dataframe\">\n",
       "  <thead>\n",
       "    <tr style=\"text-align: right;\">\n",
       "      <th></th>\n",
       "      <th>feature_A</th>\n",
       "      <th>feature_B</th>\n",
       "      <th>feature_C</th>\n",
       "    </tr>\n",
       "  </thead>\n",
       "  <tbody>\n",
       "    <tr>\n",
       "      <th>0</th>\n",
       "      <td>-0.276266</td>\n",
       "      <td>-1.363531</td>\n",
       "      <td>1.141972</td>\n",
       "    </tr>\n",
       "    <tr>\n",
       "      <th>1</th>\n",
       "      <td>1.228568</td>\n",
       "      <td>0.934238</td>\n",
       "      <td>0.169371</td>\n",
       "    </tr>\n",
       "    <tr>\n",
       "      <th>2</th>\n",
       "      <td>-0.311481</td>\n",
       "      <td>-0.442845</td>\n",
       "      <td>0.957666</td>\n",
       "    </tr>\n",
       "    <tr>\n",
       "      <th>3</th>\n",
       "      <td>-0.067255</td>\n",
       "      <td>-0.727609</td>\n",
       "      <td>-0.387329</td>\n",
       "    </tr>\n",
       "    <tr>\n",
       "      <th>4</th>\n",
       "      <td>1.758382</td>\n",
       "      <td>-0.524746</td>\n",
       "      <td>0.142666</td>\n",
       "    </tr>\n",
       "  </tbody>\n",
       "</table>\n",
       "</div>"
      ],
      "text/plain": [
       "   feature_A  feature_B  feature_C\n",
       "0  -0.276266  -1.363531   1.141972\n",
       "1   1.228568   0.934238   0.169371\n",
       "2  -0.311481  -0.442845   0.957666\n",
       "3  -0.067255  -0.727609  -0.387329\n",
       "4   1.758382  -0.524746   0.142666"
      ]
     },
     "execution_count": 73,
     "metadata": {},
     "output_type": "execute_result"
    }
   ],
   "source": [
    "features.head()"
   ]
  },
  {
   "cell_type": "code",
   "execution_count": 31,
   "metadata": {
    "scrolled": false
   },
   "outputs": [
    {
     "data": {
      "text/plain": [
       "0    3.084321\n",
       "1   -1.204244\n",
       "2   -0.519126\n",
       "3    0.306151\n",
       "4    1.018753\n",
       "Name: target, dtype: float64"
      ]
     },
     "execution_count": 31,
     "metadata": {},
     "output_type": "execute_result"
    }
   ],
   "source": [
    "target.head()"
   ]
  },
  {
   "cell_type": "code",
   "execution_count": 100,
   "metadata": {},
   "outputs": [
    {
     "name": "stdout",
     "output_type": "stream",
     "text": [
      "{'feature_A': -0.23651618812223205, 'feature_B': 0.05939032569937798, 'feature_C': 0.09154210431906828, 'target': 1.0}\n"
     ]
    },
    {
     "data": {
      "text/plain": [
       "feature_A   -0.236516\n",
       "feature_B    0.059390\n",
       "feature_C    0.091542\n",
       "target       1.000000\n",
       "Name: target, dtype: float64"
      ]
     },
     "execution_count": 100,
     "metadata": {},
     "output_type": "execute_result"
    }
   ],
   "source": [
    "dict = {}\n",
    "\n",
    "features_powered = features ** 2\n",
    "# give columns appropriate names\n",
    "\n",
    "data_2power = features_powered\n",
    "data_2power['target'] = target\n",
    "correlation = data_2power.corr()\n",
    "target_column = correlation['target']\n",
    "for i in range(target_column.shape[0]):\n",
    "    key = target_column.index.values[i]\n",
    "    value = target_column.iloc[i]\n",
    "    dict[key] = value\n",
    "correlation['target'].head()\n",
    "print(dict)\n",
    "# print(target_column.iloc[1])\n",
    "# target_column.index.values[0]\n",
    "\n",
    "target_column.head()\n"
   ]
  },
  {
   "cell_type": "code",
   "execution_count": 102,
   "metadata": {},
   "outputs": [
    {
     "data": {
      "image/png": "[encoded data removed]",
      "text/plain": [
       "<Figure size 1440x720 with 8 Axes>"
      ]
     },
     "metadata": {},
     "output_type": "display_data"
    }
   ],
   "source": [
    "import numpy as np\n",
    "import seaborn as sns\n",
    "import matplotlib.pyplot as plt\n",
    "%matplotlib inline\n",
    "sns.set()\n",
    "\n",
    "plt.figure(figsize=(20,10))\n",
    "\n",
    "list_of_powered_features = []\n",
    "features_corr_dict = {}\n",
    "\n",
    "for i in range(1,5):\n",
    "    new_columns = []\n",
    "    features_powered = features ** i\n",
    "    # give columns appropriate names\n",
    "    for column in features_powered.columns:\n",
    "        if i > 1:\n",
    "            new_columns.append(column + '^{0}'.format(i))\n",
    "        else:\n",
    "            new_columns.append(column)\n",
    "    features_powered.columns = new_columns\n",
    "    \n",
    "    list_of_powered_features.append(features_powered)\n",
    "    data_2power = features_powered\n",
    "    data_2power['target'] = target\n",
    "    correlation = data_2power.corr()\n",
    "    # add values to the dictionary of feature correlation\n",
    "    target_column = correlation['target']\n",
    "    for j in range(target_column.shape[0]):\n",
    "        key = target_column.index.values[j]\n",
    "        value = target_column.iloc[j]\n",
    "        features_corr_dict[key] = value\n",
    "    \n",
    "    plt.subplot(2,2,i)\n",
    "    ax = sns.heatmap(correlation, vmin=0, vmax=1)\n",
    "    \n",
    "\n",
    "    \n",
    "# list_of_powered_features[0].head()"
   ]
  },
  {
   "cell_type": "code",
   "execution_count": 103,
   "metadata": {},
   "outputs": [],
   "source": [
    "sorted_features_corr_dict = sorted(features_corr_dict.items(), key=lambda kv: kv[1])"
   ]
  },
  {
   "cell_type": "code",
   "execution_count": 113,
   "metadata": {},
   "outputs": [],
   "source": [
    "sorted_features_corr_dict.reverse()"
   ]
  },
  {
   "cell_type": "markdown",
   "metadata": {},
   "source": [
    "#### Top 5 of correlating features"
   ]
  },
  {
   "cell_type": "code",
   "execution_count": 116,
   "metadata": {},
   "outputs": [
    {
     "name": "stdout",
     "output_type": "stream",
     "text": [
      "['feature_A^2', 'feature_B', 'feature_B^3', 'feature_C', 'feature_C^3']\n"
     ]
    }
   ],
   "source": [
    "top5 = []\n",
    "\n",
    "for i in range(1,6):\n",
    "    feature_name = sorted_features_corr_dict[i][0]\n",
    "    top5.append(feature_name)\n",
    "    \n",
    "print(top5)"
   ]
  },
  {
   "cell_type": "markdown",
   "metadata": {},
   "source": [
    "#### TO DO:\n",
    "\n",
    "* correlation of features between themselves\n",
    "* correlation of features with target values\n",
    "* find most correlating features\n",
    "* draw histograms, barcharts, ...\n",
    "\n",
    "\n",
    "* drop unnecessary columns or join some features\n",
    "* drop data outliers (data.column.quantile)"
   ]
  },
  {
   "cell_type": "markdown",
   "metadata": {},
   "source": [
    "## Metrics"
   ]
  },
  {
   "cell_type": "markdown",
   "metadata": {},
   "source": [
    "#### TO DO:\n",
    "\n",
    "* check unbalancing!\n",
    "* What metrics will we use and why?"
   ]
  },
  {
   "cell_type": "code",
   "execution_count": null,
   "metadata": {},
   "outputs": [],
   "source": [
    "# from sklearn.metrics import ..."
   ]
  },
  {
   "cell_type": "markdown",
   "metadata": {},
   "source": [
    "## ML models"
   ]
  },
  {
   "cell_type": "markdown",
   "metadata": {},
   "source": [
    "### Preprocessing"
   ]
  },
  {
   "cell_type": "markdown",
   "metadata": {},
   "source": [
    "#### TO DO:\n",
    "\n",
    "* split into train (80%) and test (val) (20%)\n",
    "* OneHotEncoding for categorial features\n",
    "* normalize (standardize) data"
   ]
  },
  {
   "cell_type": "code",
   "execution_count": null,
   "metadata": {
    "nbgrader": {
     "grade": false,
     "grade_id": "cell-6f92413f3c0be42b",
     "locked": false,
     "schema_version": 3,
     "solution": true,
     "task": false
    }
   },
   "outputs": [],
   "source": [
    "# from sklearn.model_selection import train_test_split"
   ]
  },
  {
   "cell_type": "code",
   "execution_count": null,
   "metadata": {},
   "outputs": [],
   "source": [
    "# from sklearn.preprocessing import OneHotEncoder\n",
    "# from sklearn.preprocessing import StandardScaler"
   ]
  },
  {
   "cell_type": "markdown",
   "metadata": {},
   "source": [
    "### Linear model"
   ]
  },
  {
   "cell_type": "markdown",
   "metadata": {},
   "source": [
    "#### TO DO:\n",
    "\n",
    "* Choose some linear models\n",
    "* Find a good combination of hyperparameters via cross-validation\n",
    "* plot dependency between score and some hyperparameter"
   ]
  },
  {
   "cell_type": "code",
   "execution_count": null,
   "metadata": {},
   "outputs": [],
   "source": [
    "# from sklearn.linear_model import ???LogisticRegression\n",
    "#???? from sklearn.model_selection import StratifiedKFold\n",
    "# from sklearn.model_selection import GridSearchCV"
   ]
  },
  {
   "cell_type": "markdown",
   "metadata": {},
   "source": [
    "### Classifier model"
   ]
  },
  {
   "cell_type": "markdown",
   "metadata": {},
   "source": [
    "#### TO DO:\n",
    "\n",
    "* Choose some model (KNN or RandomForest)\n",
    "* Find a good combination of hyperparameters via cross-validation\n",
    "* plot dependency between score and some hyperparameter"
   ]
  },
  {
   "cell_type": "code",
   "execution_count": null,
   "metadata": {},
   "outputs": [],
   "source": [
    "# ???sklearn.neighbors import KNeighborsClassifier\n",
    "# ???from sklearn.ensemble import RandomForestClassifier"
   ]
  },
  {
   "cell_type": "markdown",
   "metadata": {},
   "source": [
    "## Analyzing of results"
   ]
  },
  {
   "cell_type": "markdown",
   "metadata": {},
   "source": [
    "#### TO DO:\n",
    "\n",
    "* Make `test.csv` files with our results\n",
    "* send them into Kaggle in turn"
   ]
  },
  {
   "cell_type": "markdown",
   "metadata": {},
   "source": [
    "### Comparison of models"
   ]
  },
  {
   "cell_type": "markdown",
   "metadata": {},
   "source": [
    "#### TO DO:\n",
    "\n",
    "* Compare results of Linear and Classifier models (take test scores from kaggle)\n",
    "* Write conclusion"
   ]
  }
 ],
 "metadata": {
  "celltoolbar": "Create Assignment",
  "kernelspec": {
   "display_name": "Python 3",
   "language": "python",
   "name": "python3"
  },
  "language_info": {
   "codemirror_mode": {
    "name": "ipython",
    "version": 3
   },
   "file_extension": ".py",
   "mimetype": "text/x-python",
   "name": "python",
   "nbconvert_exporter": "python",
   "pygments_lexer": "ipython3",
   "version": "3.7.0"
  }
 },
 "nbformat": 4,
 "nbformat_minor": 2
}
