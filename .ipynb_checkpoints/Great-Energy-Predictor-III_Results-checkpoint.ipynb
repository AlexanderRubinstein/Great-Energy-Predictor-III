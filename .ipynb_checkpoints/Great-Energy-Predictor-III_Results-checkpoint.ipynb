{
 "cells": [
  {
   "cell_type": "markdown",
   "metadata": {},
   "source": [
    "## Results Analyzing"
   ]
  },
  {
   "cell_type": "code",
   "execution_count": null,
   "metadata": {},
   "outputs": [],
   "source": [
    "# work with data\n",
    "import pandas as pd"
   ]
  },
  {
   "cell_type": "markdown",
   "metadata": {},
   "source": [
    "### Results Table Forming"
   ]
  },
  {
   "cell_type": "code",
   "execution_count": null,
   "metadata": {},
   "outputs": [],
   "source": [
    "submission_electricity = pd.read_csv('./submission_electricity.csv')\n",
    "submission_chilledWater = pd.read_csv('./submission_chilledWater.csv')\n",
    "submission_steam = pd.read_csv('./submission_steam.csv')\n",
    "submission_hotWater = pd.read_csv('./submission_hotWater.csv')"
   ]
  },
  {
   "cell_type": "code",
   "execution_count": null,
   "metadata": {},
   "outputs": [],
   "source": [
    "submission = pd.concat([submission_electricity, submission_chilledWater, submission_steam, submission_hotWater])"
   ]
  },
  {
   "cell_type": "code",
   "execution_count": null,
   "metadata": {},
   "outputs": [],
   "source": [
    "submission = submission.set_index('row_id')\n",
    "submission.sort_index(inplace=True)"
   ]
  },
  {
   "cell_type": "code",
   "execution_count": null,
   "metadata": {},
   "outputs": [],
   "source": [
    "def TruncFour(number):\n",
    "    return int(number * 10000) / 10000.0\n",
    "submission['meter_reading'] = submission['meter_reading'].apply(TruncFour)"
   ]
  },
  {
   "cell_type": "code",
   "execution_count": null,
   "metadata": {},
   "outputs": [],
   "source": [
    "submission"
   ]
  },
  {
   "cell_type": "code",
   "execution_count": null,
   "metadata": {},
   "outputs": [],
   "source": [
    "submission.to_csv('./submission.csv', sep=',', index=True)"
   ]
  },
  {
   "cell_type": "markdown",
   "metadata": {},
   "source": [
    "### Conclusion"
   ]
  },
  {
   "cell_type": "markdown",
   "metadata": {},
   "source": [
    "For the problem we used 64 linear regression models, a model per each meter type per each building type (4x16). \n",
    "The results obtained are: 2.09 msle on Kaggle.\n",
    "\n",
    "For both models we built cross-validation procedure and estimated quality of prediction. Hyperparameters used were found via gridsearch and are different depending on types of meter and building.\n",
    "\n",
    "Due to the lack of RAM we used several simplifications. First of all, we used grid search with small number of parameters, consequently the parameters we got are unlikely to be close to optimal. Secondly, we used only data that was related to one type of buildings and one type of meter at once. After that we merged predicted results. Because of the fact that the biggest part of data was devoted to educational buildings electrical energy consumption our models are quite applicable in real life scenario in that particular case.\n",
    "\n",
    "The overall conclusion is that we underestimated computational difficulty of this task and could not use all the available data for solving the problem. We decided to use smaller number of features but more data and did not use information about weather, but it was not enough so we had to apply additional simplifications. In ideal scenario we would use information about weather; process all types of meter and buildings at once; try more sophisticated models, especially Light GBM since according to empirical knowledge it should perform better than linear regression; run grid search with much wider set of parameters because there is almost zero probability that we guessed the best combination.\n",
    "\n",
    "Nevertheless, our solution solves the problem we stated in the beginning. Even after all the difficulties we have faced, the best models we have chosen make predictions better than more than a hundred of other solutions to this problem on Kaggle Great Energy Estimator III competion.\n",
    "\n",
    "The impact of our model on the problem domain is minor, since we did not implement anything new, however, the experience we obtained could be useful for other data science beginners in the sense that they will not use linear regression for solving the problem but rather utilize more advanced model types."
   ]
  }
 ],
 "metadata": {
  "kernelspec": {
   "display_name": "Python 3",
   "language": "python",
   "name": "python3"
  },
  "language_info": {
   "codemirror_mode": {
    "name": "ipython",
    "version": 3
   },
   "file_extension": ".py",
   "mimetype": "text/x-python",
   "name": "python",
   "nbconvert_exporter": "python",
   "pygments_lexer": "ipython3",
   "version": "3.7.3"
  }
 },
 "nbformat": 4,
 "nbformat_minor": 2
}
