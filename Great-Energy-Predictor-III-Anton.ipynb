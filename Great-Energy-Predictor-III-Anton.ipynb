{
 "cells": [
  {
   "cell_type": "markdown",
   "metadata": {},
   "source": [
    "## Description"
   ]
  },
  {
   "cell_type": "markdown",
   "metadata": {},
   "source": [
    "### Problem"
   ]
  },
  {
   "cell_type": "markdown",
   "metadata": {},
   "source": [
    "#### Objective:\n",
    "Energy savings is one of the important area of focus our current world. Energy savings has two key elements:\n",
    "\n",
    "* Forecasting future energy usage without improvements\n",
    "* Forecasting energy use after a specific set of improvements have been implemented\n",
    "\n",
    "Once we have implemented a set of improvements, the value of energy efficiency improvements can be challenging as there's no way to truly know **how much energy a building would have used without the improvements**. The best we can do is to build counterfactual models. \n",
    "\n",
    "We build these counterfactual models across four energy types:\n",
    "* **chilled water**\n",
    "* **electricity**\n",
    "* **hot water**\n",
    "* **steam**\n",
    "\n",
    "based on historic usage rates and observed weather."
   ]
  },
  {
   "cell_type": "markdown",
   "metadata": {},
   "source": [
    "### Data"
   ]
  },
  {
   "cell_type": "markdown",
   "metadata": {},
   "source": [
    "#### Dataset:\n",
    "The dataset includes three years of hourly meter readings from over one thousand buildings at several different sites around the world.\n",
    "\n",
    "##### train.csv\n",
    "\n",
    "* `building_id` - Foreign key for the building metadata.\n",
    "* `meter` - The meter id code. Read as {0: electricity, 1: chilledwater, 2: steam, 3: hotwater}. Not every building has all meter types.\n",
    "* `timestamp` - When the measurement was taken\n",
    "* `meter_reading` - The target variable. Energy consumption in kWh (or equivalent). Note that this is real data with measurement error, which we expect will impose a baseline level of modeling error.\n",
    "\n",
    "##### building_meta.csv\n",
    "\n",
    "* `site_id` - Foreign key for the weather files.\n",
    "* `building_id` - Foreign key for training.csv\n",
    "* `primary_use` - Indicator of the primary category of activities for the building based on EnergyStar property type definitions\n",
    "* `square_feet` - Gross floor area of the building\n",
    "* `year_built` - Year building was opened\n",
    "* `floor_count` - Number of floors of the building\n",
    "\n",
    "##### weather_[train/test].csv\n",
    "\n",
    "Weather data from a meteorological station as close as possible to the site.\n",
    "\n",
    "* `site_id`\n",
    "* `air_temperature` - Degrees Celsius\n",
    "* `cloud_coverage` - Portion of the sky covered in clouds, in oktas\n",
    "* `dew_temperature` - Degrees Celsius\n",
    "* `precip_depth_1_hr` - Millimeters\n",
    "* `sea_level_pressure` - Millibar/hectopascals\n",
    "* `wind_direction` - Compass direction (0-360)\n",
    "* `wind_speed` - Meters per second\n",
    "\n",
    "##### test.csv\n",
    "\n",
    "The submission files use row numbers for ID codes in order to save space on the file uploads. test.csv has no feature data; it exists so you can get your predictions into the correct order.\n",
    "\n",
    "* `row_id` - Row id for your submission file\n",
    "* `building_id` - Building id code\n",
    "* `meter` - The meter id code\n",
    "* `timestamp` - Timestamps for the test data period"
   ]
  },
  {
   "cell_type": "markdown",
   "metadata": {},
   "source": [
    "## Loading Data"
   ]
  },
  {
   "cell_type": "markdown",
   "metadata": {},
   "source": [
    "#### TO DO:\n",
    "\n",
    "* load data tables\n",
    "\n",
    "\n",
    "* join train and metadata tables\n",
    "* join train and weather tables"
   ]
  },
  {
   "cell_type": "code",
   "execution_count": 2,
   "metadata": {},
   "outputs": [],
   "source": [
    "import pandas as pd\n",
    "import os"
   ]
  },
  {
   "cell_type": "code",
   "execution_count": 3,
   "metadata": {},
   "outputs": [
    {
     "name": "stdout",
     "output_type": "stream",
     "text": [
      "Wall time: 302 ms\n"
     ]
    }
   ],
   "source": [
    "%%time\n",
    "building_metadata = pd.read_csv('data' + os.sep + 'building_metadata.csv')"
   ]
  },
  {
   "cell_type": "code",
   "execution_count": 4,
   "metadata": {},
   "outputs": [
    {
     "name": "stdout",
     "output_type": "stream",
     "text": [
      "Wall time: 14.1 s\n"
     ]
    }
   ],
   "source": [
    "%%time\n",
    "train = pd.read_csv('data' + os.sep + 'train.csv')"
   ]
  },
  {
   "cell_type": "code",
   "execution_count": 5,
   "metadata": {},
   "outputs": [
    {
     "name": "stdout",
     "output_type": "stream",
     "text": [
      "Wall time: 1min 17s\n"
     ]
    }
   ],
   "source": [
    "%%time\n",
    "test = pd.read_csv('data' + os.sep + 'test.csv')"
   ]
  },
  {
   "cell_type": "code",
   "execution_count": null,
   "metadata": {},
   "outputs": [],
   "source": [
    "# weather_train = pd.read_csv('data' + os.sep + 'weather_train.csv')"
   ]
  },
  {
   "cell_type": "code",
   "execution_count": null,
   "metadata": {},
   "outputs": [],
   "source": [
    "# weather_test = pd.read_csv('data' + os.sep + 'weather_test.csv')"
   ]
  },
  {
   "cell_type": "code",
   "execution_count": null,
   "metadata": {},
   "outputs": [],
   "source": [
    "# rename timestamps columns\n",
    "# train.columns = ['building_id', 'meter', 'timestamp_meter', 'meter_reading']\n",
    "# test.columns = ['row_id', 'building_id', 'meter', 'timestamp_meter']\n",
    "\n",
    "# weather_train.columns = ['site_id', 'timestamp_weather', 'air_temperature', 'cloud_coverage', 'dew_temperature', \\\n",
    "#                         'precip_depth_1_hr', 'sea_level_pressure', 'wind_direction', 'wind_speed']\n",
    "# weather_test.columns = ['site_id', 'timestamp_weather', 'air_temperature', 'cloud_coverage', 'dew_temperature', \\\n",
    "#                         'precip_depth_1_hr', 'sea_level_pressure', 'wind_direction', 'wind_speed']"
   ]
  },
  {
   "cell_type": "code",
   "execution_count": 6,
   "metadata": {},
   "outputs": [],
   "source": [
    "test_data = building_metadata.copy()\n",
    "train_data = building_metadata.copy()"
   ]
  },
  {
   "cell_type": "code",
   "execution_count": 7,
   "metadata": {
    "scrolled": true
   },
   "outputs": [
    {
     "data": {
      "text/html": [
       "<div>\n",
       "<style scoped>\n",
       "    .dataframe tbody tr th:only-of-type {\n",
       "        vertical-align: middle;\n",
       "    }\n",
       "\n",
       "    .dataframe tbody tr th {\n",
       "        vertical-align: top;\n",
       "    }\n",
       "\n",
       "    .dataframe thead th {\n",
       "        text-align: right;\n",
       "    }\n",
       "</style>\n",
       "<table border=\"1\" class=\"dataframe\">\n",
       "  <thead>\n",
       "    <tr style=\"text-align: right;\">\n",
       "      <th></th>\n",
       "      <th>site_id</th>\n",
       "      <th>building_id</th>\n",
       "      <th>primary_use</th>\n",
       "      <th>square_feet</th>\n",
       "      <th>year_built</th>\n",
       "      <th>floor_count</th>\n",
       "      <th>row_id</th>\n",
       "      <th>meter</th>\n",
       "      <th>timestamp</th>\n",
       "    </tr>\n",
       "  </thead>\n",
       "  <tbody>\n",
       "    <tr>\n",
       "      <td>0</td>\n",
       "      <td>0</td>\n",
       "      <td>0</td>\n",
       "      <td>Education</td>\n",
       "      <td>7432</td>\n",
       "      <td>2008.0</td>\n",
       "      <td>NaN</td>\n",
       "      <td>0</td>\n",
       "      <td>0</td>\n",
       "      <td>2017-01-01 00:00:00</td>\n",
       "    </tr>\n",
       "    <tr>\n",
       "      <td>0</td>\n",
       "      <td>0</td>\n",
       "      <td>0</td>\n",
       "      <td>Education</td>\n",
       "      <td>7432</td>\n",
       "      <td>2008.0</td>\n",
       "      <td>NaN</td>\n",
       "      <td>129</td>\n",
       "      <td>0</td>\n",
       "      <td>2017-01-01 01:00:00</td>\n",
       "    </tr>\n",
       "    <tr>\n",
       "      <td>0</td>\n",
       "      <td>0</td>\n",
       "      <td>0</td>\n",
       "      <td>Education</td>\n",
       "      <td>7432</td>\n",
       "      <td>2008.0</td>\n",
       "      <td>NaN</td>\n",
       "      <td>258</td>\n",
       "      <td>0</td>\n",
       "      <td>2017-01-01 02:00:00</td>\n",
       "    </tr>\n",
       "    <tr>\n",
       "      <td>0</td>\n",
       "      <td>0</td>\n",
       "      <td>0</td>\n",
       "      <td>Education</td>\n",
       "      <td>7432</td>\n",
       "      <td>2008.0</td>\n",
       "      <td>NaN</td>\n",
       "      <td>387</td>\n",
       "      <td>0</td>\n",
       "      <td>2017-01-01 03:00:00</td>\n",
       "    </tr>\n",
       "    <tr>\n",
       "      <td>0</td>\n",
       "      <td>0</td>\n",
       "      <td>0</td>\n",
       "      <td>Education</td>\n",
       "      <td>7432</td>\n",
       "      <td>2008.0</td>\n",
       "      <td>NaN</td>\n",
       "      <td>516</td>\n",
       "      <td>0</td>\n",
       "      <td>2017-01-01 04:00:00</td>\n",
       "    </tr>\n",
       "  </tbody>\n",
       "</table>\n",
       "</div>"
      ],
      "text/plain": [
       "   site_id  building_id primary_use  square_feet  year_built  floor_count  \\\n",
       "0        0            0   Education         7432      2008.0          NaN   \n",
       "0        0            0   Education         7432      2008.0          NaN   \n",
       "0        0            0   Education         7432      2008.0          NaN   \n",
       "0        0            0   Education         7432      2008.0          NaN   \n",
       "0        0            0   Education         7432      2008.0          NaN   \n",
       "\n",
       "   row_id  meter            timestamp  \n",
       "0       0      0  2017-01-01 00:00:00  \n",
       "0     129      0  2017-01-01 01:00:00  \n",
       "0     258      0  2017-01-01 02:00:00  \n",
       "0     387      0  2017-01-01 03:00:00  \n",
       "0     516      0  2017-01-01 04:00:00  "
      ]
     },
     "execution_count": 7,
     "metadata": {},
     "output_type": "execute_result"
    }
   ],
   "source": [
    "test_data = test_data.join(test.set_index('building_id'), on='building_id', how='inner')\n",
    "test_data.head()"
   ]
  },
  {
   "cell_type": "code",
   "execution_count": 8,
   "metadata": {},
   "outputs": [
    {
     "data": {
      "text/plain": [
       "(41697600, 9)"
      ]
     },
     "execution_count": 8,
     "metadata": {},
     "output_type": "execute_result"
    }
   ],
   "source": [
    "test_data.shape"
   ]
  },
  {
   "cell_type": "code",
   "execution_count": 9,
   "metadata": {
    "scrolled": false
   },
   "outputs": [
    {
     "data": {
      "text/html": [
       "<div>\n",
       "<style scoped>\n",
       "    .dataframe tbody tr th:only-of-type {\n",
       "        vertical-align: middle;\n",
       "    }\n",
       "\n",
       "    .dataframe tbody tr th {\n",
       "        vertical-align: top;\n",
       "    }\n",
       "\n",
       "    .dataframe thead th {\n",
       "        text-align: right;\n",
       "    }\n",
       "</style>\n",
       "<table border=\"1\" class=\"dataframe\">\n",
       "  <thead>\n",
       "    <tr style=\"text-align: right;\">\n",
       "      <th></th>\n",
       "      <th>site_id</th>\n",
       "      <th>building_id</th>\n",
       "      <th>primary_use</th>\n",
       "      <th>square_feet</th>\n",
       "      <th>year_built</th>\n",
       "      <th>floor_count</th>\n",
       "      <th>meter</th>\n",
       "      <th>timestamp</th>\n",
       "      <th>meter_reading</th>\n",
       "    </tr>\n",
       "  </thead>\n",
       "  <tbody>\n",
       "    <tr>\n",
       "      <td>0</td>\n",
       "      <td>0</td>\n",
       "      <td>0</td>\n",
       "      <td>Education</td>\n",
       "      <td>7432</td>\n",
       "      <td>2008.0</td>\n",
       "      <td>NaN</td>\n",
       "      <td>0</td>\n",
       "      <td>2016-01-01 00:00:00</td>\n",
       "      <td>0.0</td>\n",
       "    </tr>\n",
       "    <tr>\n",
       "      <td>0</td>\n",
       "      <td>0</td>\n",
       "      <td>0</td>\n",
       "      <td>Education</td>\n",
       "      <td>7432</td>\n",
       "      <td>2008.0</td>\n",
       "      <td>NaN</td>\n",
       "      <td>0</td>\n",
       "      <td>2016-01-01 01:00:00</td>\n",
       "      <td>0.0</td>\n",
       "    </tr>\n",
       "    <tr>\n",
       "      <td>0</td>\n",
       "      <td>0</td>\n",
       "      <td>0</td>\n",
       "      <td>Education</td>\n",
       "      <td>7432</td>\n",
       "      <td>2008.0</td>\n",
       "      <td>NaN</td>\n",
       "      <td>0</td>\n",
       "      <td>2016-01-01 02:00:00</td>\n",
       "      <td>0.0</td>\n",
       "    </tr>\n",
       "    <tr>\n",
       "      <td>0</td>\n",
       "      <td>0</td>\n",
       "      <td>0</td>\n",
       "      <td>Education</td>\n",
       "      <td>7432</td>\n",
       "      <td>2008.0</td>\n",
       "      <td>NaN</td>\n",
       "      <td>0</td>\n",
       "      <td>2016-01-01 03:00:00</td>\n",
       "      <td>0.0</td>\n",
       "    </tr>\n",
       "    <tr>\n",
       "      <td>0</td>\n",
       "      <td>0</td>\n",
       "      <td>0</td>\n",
       "      <td>Education</td>\n",
       "      <td>7432</td>\n",
       "      <td>2008.0</td>\n",
       "      <td>NaN</td>\n",
       "      <td>0</td>\n",
       "      <td>2016-01-01 04:00:00</td>\n",
       "      <td>0.0</td>\n",
       "    </tr>\n",
       "  </tbody>\n",
       "</table>\n",
       "</div>"
      ],
      "text/plain": [
       "   site_id  building_id primary_use  square_feet  year_built  floor_count  \\\n",
       "0        0            0   Education         7432      2008.0          NaN   \n",
       "0        0            0   Education         7432      2008.0          NaN   \n",
       "0        0            0   Education         7432      2008.0          NaN   \n",
       "0        0            0   Education         7432      2008.0          NaN   \n",
       "0        0            0   Education         7432      2008.0          NaN   \n",
       "\n",
       "   meter            timestamp  meter_reading  \n",
       "0      0  2016-01-01 00:00:00            0.0  \n",
       "0      0  2016-01-01 01:00:00            0.0  \n",
       "0      0  2016-01-01 02:00:00            0.0  \n",
       "0      0  2016-01-01 03:00:00            0.0  \n",
       "0      0  2016-01-01 04:00:00            0.0  "
      ]
     },
     "execution_count": 9,
     "metadata": {},
     "output_type": "execute_result"
    }
   ],
   "source": [
    "train_data = train_data.join(train.set_index('building_id'), on='building_id', how='inner')\n",
    "train_data.head()"
   ]
  },
  {
   "cell_type": "code",
   "execution_count": 10,
   "metadata": {},
   "outputs": [
    {
     "data": {
      "text/plain": [
       "(20216100, 9)"
      ]
     },
     "execution_count": 10,
     "metadata": {},
     "output_type": "execute_result"
    }
   ],
   "source": [
    "train_data.shape"
   ]
  },
  {
   "cell_type": "code",
   "execution_count": null,
   "metadata": {},
   "outputs": [],
   "source": [
    "# train_data = train_data.join(weather_train.set_index('site_id'), on='site_id', how='inner')"
   ]
  },
  {
   "cell_type": "code",
   "execution_count": null,
   "metadata": {},
   "outputs": [],
   "source": [
    "# test_data = test_data.join(weather_test.set_index('site_id'), on='site_id', how='inner')"
   ]
  },
  {
   "cell_type": "markdown",
   "metadata": {},
   "source": [
    "## Preprocessing"
   ]
  },
  {
   "cell_type": "markdown",
   "metadata": {},
   "source": [
    "### Data Cleaning"
   ]
  },
  {
   "cell_type": "code",
   "execution_count": null,
   "metadata": {},
   "outputs": [],
   "source": [
    "# import numpy as np"
   ]
  },
  {
   "cell_type": "markdown",
   "metadata": {
    "nbgrader": {
     "grade": false,
     "grade_id": "cell-6ad9385669a931bb",
     "locked": false,
     "schema_version": 3,
     "solution": true,
     "task": false
    }
   },
   "source": [
    "#### TO DO:\n",
    "\n",
    "* NaNs counting\n",
    "* How to fill in the blanks?\n",
    "\n",
    "\n",
    "* Some columns processing (LabelEncoder)\n",
    "* Split table into features and targets"
   ]
  },
  {
   "cell_type": "code",
   "execution_count": null,
   "metadata": {},
   "outputs": [],
   "source": [
    "# import matplotlib.pyplot as plt\n",
    "# %matplotlib inline\n",
    "# import seaborn as sns"
   ]
  },
  {
   "cell_type": "code",
   "execution_count": null,
   "metadata": {},
   "outputs": [],
   "source": [
    "# from sklearn.preprocessing import LabelEncoder"
   ]
  },
  {
   "cell_type": "markdown",
   "metadata": {},
   "source": [
    "### Statistics"
   ]
  },
  {
   "cell_type": "markdown",
   "metadata": {},
   "source": [
    "#### TO DO:\n",
    "\n",
    "* correlation of features between themselves\n",
    "* correlation of features with target values\n",
    "* draw histograms, barcharts, ...\n",
    "\n",
    "\n",
    "* drop unnecessary columns or join some features\n",
    "* drop data outliers (data.column.quantile)"
   ]
  },
  {
   "cell_type": "markdown",
   "metadata": {},
   "source": [
    "## Metrics"
   ]
  },
  {
   "cell_type": "markdown",
   "metadata": {},
   "source": [
    "#### TO DO:\n",
    "\n",
    "* check unbalancing!\n",
    "* What metrics will we use and why?"
   ]
  },
  {
   "cell_type": "code",
   "execution_count": null,
   "metadata": {},
   "outputs": [],
   "source": [
    "# from sklearn.metrics import ..."
   ]
  },
  {
   "cell_type": "markdown",
   "metadata": {},
   "source": [
    "## ML models"
   ]
  },
  {
   "cell_type": "markdown",
   "metadata": {},
   "source": [
    "### Preprocessing"
   ]
  },
  {
   "cell_type": "markdown",
   "metadata": {},
   "source": [
    "#### TO DO:\n",
    "\n",
    "* ~~split into train (80%) and test (val) (20%)~~\n",
    "* ~~OneHotEncoding for categorial features~~\n",
    "* ~~normalize (standardize) data~~\n"
   ]
  },
  {
   "cell_type": "code",
   "execution_count": null,
   "metadata": {},
   "outputs": [],
   "source": [
    "from sklearn.preprocessing import OneHotEncoder, StandardScaler\n",
    "from sklearn.pipeline import Pipeline\n",
    "from sklearn.linear_model import Ridge, Lasso\n",
    "from sklearn.model_selection import GridSearchCV, train_test_split\n",
    "from sklearn.metrics import mean_squared_log_error\n",
    "\n",
    "\n",
    "random_state=1"
   ]
  },
  {
   "cell_type": "markdown",
   "metadata": {},
   "source": [
    "### TO DO:\n",
    "* Get categorical indices and numerical (non-binary)"
   ]
  },
  {
   "cell_type": "code",
   "execution_count": null,
   "metadata": {},
   "outputs": [],
   "source": [
    "pipe_ridge = Pipeline(steps=[\n",
    "    ('feature_processing', FeatureUnion(transformer_list=[\n",
    "        ('encoding', Pipeline(steps = [('selecting', FunctionTransformer(lambda X : X[:, categorical_indices])),\n",
    "                                      ('encoding', OneHotEncoder())\n",
    "                                      ])),\n",
    "        ('scaling', Pipeline(steps = [('selecting', FunctionTransformer(lambda X : X[:, numerical_data_indices])),\n",
    "                                     ('scaling', StandardScaler())\n",
    "                                     ]))\n",
    "    ]),\n",
    "    'model', Ridge(random_state=random_state))\n",
    "])"
   ]
  },
  {
   "cell_type": "code",
   "execution_count": null,
   "metadata": {},
   "outputs": [],
   "source": [
    "pipe_lasso = Pipeline(steps=[\n",
    "    ('feature_processing', FeatureUnion(transformer_list=[\n",
    "        ('encoding', Pipeline(steps = [('selecting', FunctionTransformer(lambda X : X[:, categorical_indices])),\n",
    "                                      ('encoding', OneHotEncoder())\n",
    "                                      ])),\n",
    "        ('scaling', Pipeline(steps = [('selecting', FunctionTransformer(lambda X : X[:, numerical_data_indices])),\n",
    "                                     ('scaling', StandardScaler())\n",
    "                                     ]))\n",
    "    ]),\n",
    "    'model', Lasso(random_state=random_state))\n",
    "])"
   ]
  },
  {
   "cell_type": "code",
   "execution_count": null,
   "metadata": {
    "nbgrader": {
     "grade": false,
     "grade_id": "cell-6f92413f3c0be42b",
     "locked": false,
     "schema_version": 3,
     "solution": true,
     "task": false
    }
   },
   "outputs": [],
   "source": [
    "X_train, X_val, y_train, y_val = train_test_split(X, y, test_size=0.2, random_state=random_state)"
   ]
  },
  {
   "cell_type": "markdown",
   "metadata": {},
   "source": [
    "### Linear model"
   ]
  },
  {
   "cell_type": "markdown",
   "metadata": {},
   "source": [
    "#### TO DO:\n",
    "\n",
    "* Choose some linear models\n",
    "* Find a good combination of hyperparameters via cross-validation\n",
    "* plot dependency between score and some hyperparameter"
   ]
  },
  {
   "cell_type": "code",
   "execution_count": null,
   "metadata": {},
   "outputs": [],
   "source": [
    "param_grid = {'model__alpha': np.logspace(-20, 20, 41)}\n",
    "grid_search_ridge = GridSearchCV(pipe_ridge, param_grid, cv=3, n_jobs=2, scoring='msle') \n",
    "grid_search_ridge.fit(X_train, y_train)\n",
    "print(\"Best parameter (CV score=%0.3f):\" % grid_search_ridge.best_score_)\n",
    "print(grid_search_ridge.best_params_)"
   ]
  },
  {
   "cell_type": "code",
   "execution_count": null,
   "metadata": {},
   "outputs": [],
   "source": [
    "results_ridge = grid_search_ridge.cv_results_\n",
    "plt.figure(figsize=[12., 9.])\n",
    "plt.title(\"GridSearchCV for Ridge Regression\")\n",
    "plt.xlabel(\"Regularization coefficient\")\n",
    "plt.ylabel(\"MSLE\")\n",
    "\n",
    "x_axis = np.array(results_ridge['param_alpha'].data, dtype=float)\n",
    "y_axis = results_ridge['mean_test_score']\n",
    "plt.plot(x_axis, y_axis)"
   ]
  },
  {
   "cell_type": "code",
   "execution_count": null,
   "metadata": {},
   "outputs": [],
   "source": [
    "grid_search_lasso = GridSearchCV(pipe_lasso, param_grid, cv=3, n_jobs=2, scoring='msle') \n",
    "grid_search_lasso.fit(X_train, y_train)\n",
    "print(\"Best parameter (CV score=%0.3f):\" % grid_search_lasso.best_score_)\n",
    "print(grid_search_lasso.best_params_)"
   ]
  },
  {
   "cell_type": "code",
   "execution_count": null,
   "metadata": {},
   "outputs": [],
   "source": [
    "results = grid_search_lasso.cv_results_\n",
    "plt.figure(figsize=[12., 9.])\n",
    "plt.title(\"GridSearchCV for Lasso Regression\")\n",
    "plt.xlabel(\"Regularization coefficient\")\n",
    "plt.ylabel(\"MSLE\")\n",
    "\n",
    "x_axis = np.array(results_lasso['param_alpha'].data, dtype=float)\n",
    "y_axis = results_lasso['mean_test_score']\n",
    "plt.plot(x_axis, y_axis)"
   ]
  },
  {
   "cell_type": "code",
   "execution_count": null,
   "metadata": {},
   "outputs": [],
   "source": [
    "fin_model = Lasso(alpha = grid_search_lasso.best_params_[alpha], random_state=random_state) \n",
    "if grid_search_lasso.best_score_ > grid_search_ridge.best_score_ else \n",
    "Ridge(alpha = grid_search_ridge.best_params_[alpha], random_state=random_state)\n",
    "\n",
    "fin_model.fit(X_train, y_train)\n",
    "y_pred = fin_model.predict(X_val)\n",
    "mean_squared_log_error.score(y_pred, y_test)"
   ]
  },
  {
   "cell_type": "markdown",
   "metadata": {},
   "source": [
    "## Analyzing of results"
   ]
  },
  {
   "cell_type": "markdown",
   "metadata": {},
   "source": [
    "#### TO DO:\n",
    "\n",
    "* Make `test.csv` files with our results\n",
    "* send them into Kaggle in turn"
   ]
  },
  {
   "cell_type": "code",
   "execution_count": null,
   "metadata": {},
   "outputs": [],
   "source": []
  }
 ],
 "metadata": {
  "celltoolbar": "Create Assignment",
  "kernelspec": {
   "display_name": "Python 3",
   "language": "python",
   "name": "python3"
  },
  "language_info": {
   "codemirror_mode": {
    "name": "ipython",
    "version": 3
   },
   "file_extension": ".py",
   "mimetype": "text/x-python",
   "name": "python",
   "nbconvert_exporter": "python",
   "pygments_lexer": "ipython3",
   "version": "3.7.4"
  }
 },
 "nbformat": 4,
 "nbformat_minor": 2
}
