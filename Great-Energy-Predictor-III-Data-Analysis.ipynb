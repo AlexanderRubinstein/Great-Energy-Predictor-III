{
 "cells": [
  {
   "cell_type": "markdown",
   "metadata": {},
   "source": [
    "## Description"
   ]
  },
  {
   "cell_type": "markdown",
   "metadata": {},
   "source": [
    "### Problem"
   ]
  },
  {
   "cell_type": "markdown",
   "metadata": {},
   "source": [
    "#### Objective:\n",
    "Energy savings by buildings has two key elements:\n",
    "\n",
    "* Forecasting future energy usage without improvements\n",
    "* Forecasting energy use after a specific set of improvements have been implemented\n",
    "\n",
    "Once building owners have implemented a set of energy efficiency improvements, the value of them can be challenging to estimate as there's no way to truly know **how much energy a building would have used without the improvements**. \n",
    "\n",
    "The best we can do is to build counterfactual models based on historic usage rates and observed weather. The models will predict energy usage without improvements. These predictions can be compared to real energy usage after improvements. People responsible for the energy usage will be able to understand whether energy efficiency improvements were worth implementing or not. \n",
    "\n",
    "Solution to the problem might attract more people to the area of efficient energy consumption leading to more reasonable usage of energy resources."
   ]
  },
  {
   "cell_type": "markdown",
   "metadata": {},
   "source": [
    "### Data"
   ]
  },
  {
   "cell_type": "markdown",
   "metadata": {},
   "source": [
    "#### Dataset:\n",
    "The dataset includes three years of hourly meter readings from over one thousand buildings at several different sites around the world.\n",
    "\n",
    "##### train.csv\n",
    "\n",
    "* `building_id` - Foreign key for the building metadata.\n",
    "* `meter` - The meter id code. Read as {0: electricity, 1: chilledwater, 2: steam, 3: hotwater}. Not every building has all meter types.\n",
    "* `timestamp` - When the measurement was taken\n",
    "* `meter_reading` - The target variable. Energy consumption in kWh (or equivalent). Note that this is real data with measurement error, which we expect will impose a baseline level of modeling error.\n",
    "\n",
    "##### building_meta.csv\n",
    "\n",
    "* `site_id` - Foreign key for the weather files.\n",
    "* `building_id` - Foreign key for training.csv\n",
    "* `primary_use` - Indicator of the primary category of activities for the building based on EnergyStar property type definitions\n",
    "* `square_feet` - Gross floor area of the building\n",
    "* `year_built` - Year building was opened\n",
    "* `floor_count` - Number of floors of the building\n",
    "\n",
    "##### weather_[train/test].csv\n",
    "\n",
    "Weather data from a meteorological station as close as possible to the site.\n",
    "\n",
    "* `site_id`\n",
    "* `air_temperature` - Degrees Celsius\n",
    "* `cloud_coverage` - Portion of the sky covered in clouds, in oktas\n",
    "* `dew_temperature` - Degrees Celsius\n",
    "* `precip_depth_1_hr` - Millimeters\n",
    "* `sea_level_pressure` - Millibar/hectopascals\n",
    "* `wind_direction` - Compass direction (0-360)\n",
    "* `wind_speed` - Meters per second\n",
    "\n",
    "##### test.csv\n",
    "\n",
    "The submission files use row numbers for ID codes in order to save space on the file uploads. test.csv has no feature data; it exists so you can get your predictions into the correct order.\n",
    "\n",
    "* `row_id` - Row id for your submission file\n",
    "* `building_id` - Building id code\n",
    "* `meter` - The meter id code\n",
    "* `timestamp` - Timestamps for the test data period"
   ]
  },
  {
   "cell_type": "markdown",
   "metadata": {},
   "source": [
    "### Imports"
   ]
  },
  {
   "cell_type": "code",
   "execution_count": 185,
   "metadata": {},
   "outputs": [],
   "source": [
    "# work with data\n",
    "import pandas as pd\n",
    "import numpy as np\n",
    "from sklearn.preprocessing import LabelEncoder\n",
    "\n",
    "# plotting issues\n",
    "import seaborn as sns\n",
    "from matplotlib import pyplot as plt\n",
    "\n",
    "# statistics calculation\n",
    "from statistics import median\n",
    "\n",
    "# ML models\n",
    "from sklearn.preprocessing import OneHotEncoder, StandardScaler, FunctionTransformer\n",
    "from sklearn.pipeline import Pipeline, FeatureUnion\n",
    "from sklearn.linear_model import Ridge, Lasso\n",
    "from sklearn.model_selection import GridSearchCV\n",
    "from sklearn.metrics import mean_squared_log_error\n",
    "\n",
    "random_state = 42\n",
    "\n",
    "# technical issues\n",
    "import os\n",
    "%matplotlib inline"
   ]
  },
  {
   "cell_type": "markdown",
   "metadata": {},
   "source": [
    "## Data Preprocessing"
   ]
  },
  {
   "cell_type": "markdown",
   "metadata": {},
   "source": [
    "### Data Loading"
   ]
  },
  {
   "cell_type": "markdown",
   "metadata": {},
   "source": [
    "We tried to merge tables `weather_train`, `building_metadata` and `train` to obtain the maximum number of features. However, even working in Google Colab with 25 Gb RAM and loading tables in chunks we faced errors due to lack of memory. Therefore we made a decision not to use information about weather in our project."
   ]
  },
  {
   "cell_type": "code",
   "execution_count": 186,
   "metadata": {},
   "outputs": [
    {
     "name": "stdout",
     "output_type": "stream",
     "text": [
      "Wall time: 25 ms\n"
     ]
    }
   ],
   "source": [
    "%%time\n",
    "building_metadata = pd.read_csv('data' + os.sep + 'building_metadata.csv')"
   ]
  },
  {
   "cell_type": "code",
   "execution_count": 187,
   "metadata": {},
   "outputs": [
    {
     "name": "stdout",
     "output_type": "stream",
     "text": [
      "Wall time: 31.6 s\n"
     ]
    }
   ],
   "source": [
    "%%time\n",
    "train_data = pd.read_csv('data' + os.sep + 'train.csv')"
   ]
  },
  {
   "cell_type": "code",
   "execution_count": 188,
   "metadata": {},
   "outputs": [
    {
     "name": "stdout",
     "output_type": "stream",
     "text": [
      "Wall time: 1min 5s\n"
     ]
    }
   ],
   "source": [
    "%%time\n",
    "test_data = pd.read_csv('data' + os.sep + 'test.csv')"
   ]
  },
  {
   "cell_type": "markdown",
   "metadata": {},
   "source": [
    "### Data Cleaning"
   ]
  },
  {
   "cell_type": "markdown",
   "metadata": {},
   "source": [
    "Now we need to know, how much data is missing."
   ]
  },
  {
   "cell_type": "code",
   "execution_count": 189,
   "metadata": {},
   "outputs": [],
   "source": [
    "missing_numbers = {}\n",
    "for column in building_metadata.columns:\n",
    "    number_of_nans = len(building_metadata[column]) - building_metadata[column].count()\n",
    "    if (number_of_nans > 0):\n",
    "        missing_numbers[column] = float(number_of_nans) / float(len(building_metadata[column]))\n",
    "for column in train_data.columns:\n",
    "    number_of_nans = len(train_data[column]) - train_data[column].count()\n",
    "    if (number_of_nans > 0):\n",
    "        missing_numbers[column] = float(number_of_nans) / float(len(train_data[column]))\n",
    "missing_numbers_df = pd.DataFrame(list(missing_numbers.items()), columns=['Feature', 'Ratio of missing values'])"
   ]
  },
  {
   "cell_type": "code",
   "execution_count": 190,
   "metadata": {},
   "outputs": [
    {
     "data": {
      "image/png": "[encoded data removed]",
      "text/plain": [
       "<Figure size 432x288 with 1 Axes>"
      ]
     },
     "metadata": {
      "needs_background": "light"
     },
     "output_type": "display_data"
    }
   ],
   "source": [
    "plt.ticklabel_format(axis='both', style='sci', scilimits=(-10,10))\n",
    "plt.title(\"Missing values in predictor columns\")\n",
    "g = sns.barplot(y=missing_numbers_df['Ratio of missing values'], x=missing_numbers_df['Feature'])\n",
    "plt.xlabel(\"Feature name\")\n",
    "plt.ylabel(\"Ratio of missing values\")\n",
    "plt.xticks(rotation=45)\n",
    "g.set_ylim(ymax=1);"
   ]
  },
  {
   "cell_type": "markdown",
   "metadata": {},
   "source": [
    "We need to either drop or fill missing values in columns \"year_built\" and \"floor_count\". Since we do not have many features we can not afford dropping these columns. Therefore we will fill them with median values for corresponding building types. It has some sense for floor-count because buildings of one type are often built similarly. "
   ]
  },
  {
   "cell_type": "code",
   "execution_count": 191,
   "metadata": {},
   "outputs": [
    {
     "name": "stdout",
     "output_type": "stream",
     "text": [
      "<class 'pandas.core.frame.DataFrame'>\n",
      "RangeIndex: 1449 entries, 0 to 1448\n",
      "Data columns (total 6 columns):\n",
      "site_id        1449 non-null int64\n",
      "building_id    1449 non-null int64\n",
      "primary_use    1449 non-null object\n",
      "square_feet    1449 non-null int64\n",
      "year_built     675 non-null float64\n",
      "floor_count    355 non-null float64\n",
      "dtypes: float64(2), int64(3), object(1)\n",
      "memory usage: 68.0+ KB\n"
     ]
    }
   ],
   "source": [
    "building_metadata.info()"
   ]
  },
  {
   "cell_type": "code",
   "execution_count": 192,
   "metadata": {},
   "outputs": [],
   "source": [
    "floor_count_median = building_metadata[['primary_use', 'floor_count']].groupby(['primary_use']).median()\n",
    "year_built_median = building_metadata[['primary_use', 'year_built']].groupby(['primary_use']).median()"
   ]
  },
  {
   "cell_type": "code",
   "execution_count": 193,
   "metadata": {},
   "outputs": [
    {
     "data": {
      "text/html": [
       "<div>\n",
       "<style scoped>\n",
       "    .dataframe tbody tr th:only-of-type {\n",
       "        vertical-align: middle;\n",
       "    }\n",
       "\n",
       "    .dataframe tbody tr th {\n",
       "        vertical-align: top;\n",
       "    }\n",
       "\n",
       "    .dataframe thead th {\n",
       "        text-align: right;\n",
       "    }\n",
       "</style>\n",
       "<table border=\"1\" class=\"dataframe\">\n",
       "  <thead>\n",
       "    <tr style=\"text-align: right;\">\n",
       "      <th></th>\n",
       "      <th>floor_count</th>\n",
       "    </tr>\n",
       "    <tr>\n",
       "      <th>primary_use</th>\n",
       "      <th></th>\n",
       "    </tr>\n",
       "  </thead>\n",
       "  <tbody>\n",
       "    <tr>\n",
       "      <th>Education</th>\n",
       "      <td>4.0</td>\n",
       "    </tr>\n",
       "    <tr>\n",
       "      <th>Entertainment/public assembly</th>\n",
       "      <td>1.0</td>\n",
       "    </tr>\n",
       "    <tr>\n",
       "      <th>Food sales and service</th>\n",
       "      <td>1.0</td>\n",
       "    </tr>\n",
       "    <tr>\n",
       "      <th>Healthcare</th>\n",
       "      <td>1.0</td>\n",
       "    </tr>\n",
       "    <tr>\n",
       "      <th>Lodging/residential</th>\n",
       "      <td>7.0</td>\n",
       "    </tr>\n",
       "    <tr>\n",
       "      <th>Manufacturing/industrial</th>\n",
       "      <td>2.0</td>\n",
       "    </tr>\n",
       "    <tr>\n",
       "      <th>Office</th>\n",
       "      <td>2.5</td>\n",
       "    </tr>\n",
       "    <tr>\n",
       "      <th>Other</th>\n",
       "      <td>1.0</td>\n",
       "    </tr>\n",
       "    <tr>\n",
       "      <th>Parking</th>\n",
       "      <td>2.0</td>\n",
       "    </tr>\n",
       "    <tr>\n",
       "      <th>Public services</th>\n",
       "      <td>1.0</td>\n",
       "    </tr>\n",
       "    <tr>\n",
       "      <th>Religious worship</th>\n",
       "      <td>2.0</td>\n",
       "    </tr>\n",
       "    <tr>\n",
       "      <th>Retail</th>\n",
       "      <td>1.5</td>\n",
       "    </tr>\n",
       "    <tr>\n",
       "      <th>Services</th>\n",
       "      <td>1.0</td>\n",
       "    </tr>\n",
       "    <tr>\n",
       "      <th>Technology/science</th>\n",
       "      <td>5.0</td>\n",
       "    </tr>\n",
       "    <tr>\n",
       "      <th>Utility</th>\n",
       "      <td>2.0</td>\n",
       "    </tr>\n",
       "    <tr>\n",
       "      <th>Warehouse/storage</th>\n",
       "      <td>1.0</td>\n",
       "    </tr>\n",
       "  </tbody>\n",
       "</table>\n",
       "</div>"
      ],
      "text/plain": [
       "                               floor_count\n",
       "primary_use                               \n",
       "Education                              4.0\n",
       "Entertainment/public assembly          1.0\n",
       "Food sales and service                 1.0\n",
       "Healthcare                             1.0\n",
       "Lodging/residential                    7.0\n",
       "Manufacturing/industrial               2.0\n",
       "Office                                 2.5\n",
       "Other                                  1.0\n",
       "Parking                                2.0\n",
       "Public services                        1.0\n",
       "Religious worship                      2.0\n",
       "Retail                                 1.5\n",
       "Services                               1.0\n",
       "Technology/science                     5.0\n",
       "Utility                                2.0\n",
       "Warehouse/storage                      1.0"
      ]
     },
     "execution_count": 193,
     "metadata": {},
     "output_type": "execute_result"
    }
   ],
   "source": [
    "floor_count_median.loc['Food sales and service'] = 1.0\n",
    "floor_count_median.loc['Religious worship'] = 2.0\n",
    "floor_count_median.loc['Services'] = 1.0\n",
    "floor_count_median"
   ]
  },
  {
   "cell_type": "code",
   "execution_count": 194,
   "metadata": {
    "scrolled": true
   },
   "outputs": [
    {
     "data": {
      "text/html": [
       "<div>\n",
       "<style scoped>\n",
       "    .dataframe tbody tr th:only-of-type {\n",
       "        vertical-align: middle;\n",
       "    }\n",
       "\n",
       "    .dataframe tbody tr th {\n",
       "        vertical-align: top;\n",
       "    }\n",
       "\n",
       "    .dataframe thead th {\n",
       "        text-align: right;\n",
       "    }\n",
       "</style>\n",
       "<table border=\"1\" class=\"dataframe\">\n",
       "  <thead>\n",
       "    <tr style=\"text-align: right;\">\n",
       "      <th></th>\n",
       "      <th>year_built</th>\n",
       "    </tr>\n",
       "    <tr>\n",
       "      <th>primary_use</th>\n",
       "      <th></th>\n",
       "    </tr>\n",
       "  </thead>\n",
       "  <tbody>\n",
       "    <tr>\n",
       "      <th>Education</th>\n",
       "      <td>1966.0</td>\n",
       "    </tr>\n",
       "    <tr>\n",
       "      <th>Entertainment/public assembly</th>\n",
       "      <td>1976.0</td>\n",
       "    </tr>\n",
       "    <tr>\n",
       "      <th>Food sales and service</th>\n",
       "      <td>2012.0</td>\n",
       "    </tr>\n",
       "    <tr>\n",
       "      <th>Healthcare</th>\n",
       "      <td>2000.0</td>\n",
       "    </tr>\n",
       "    <tr>\n",
       "      <th>Lodging/residential</th>\n",
       "      <td>1975.0</td>\n",
       "    </tr>\n",
       "    <tr>\n",
       "      <th>Manufacturing/industrial</th>\n",
       "      <td>1969.0</td>\n",
       "    </tr>\n",
       "    <tr>\n",
       "      <th>Office</th>\n",
       "      <td>1976.0</td>\n",
       "    </tr>\n",
       "    <tr>\n",
       "      <th>Other</th>\n",
       "      <td>1980.0</td>\n",
       "    </tr>\n",
       "    <tr>\n",
       "      <th>Parking</th>\n",
       "      <td>2003.0</td>\n",
       "    </tr>\n",
       "    <tr>\n",
       "      <th>Public services</th>\n",
       "      <td>1968.0</td>\n",
       "    </tr>\n",
       "    <tr>\n",
       "      <th>Religious worship</th>\n",
       "      <td>1979.0</td>\n",
       "    </tr>\n",
       "    <tr>\n",
       "      <th>Retail</th>\n",
       "      <td>1996.0</td>\n",
       "    </tr>\n",
       "    <tr>\n",
       "      <th>Services</th>\n",
       "      <td>1979.0</td>\n",
       "    </tr>\n",
       "    <tr>\n",
       "      <th>Technology/science</th>\n",
       "      <td>1942.0</td>\n",
       "    </tr>\n",
       "    <tr>\n",
       "      <th>Utility</th>\n",
       "      <td>1990.0</td>\n",
       "    </tr>\n",
       "    <tr>\n",
       "      <th>Warehouse/storage</th>\n",
       "      <td>1979.0</td>\n",
       "    </tr>\n",
       "  </tbody>\n",
       "</table>\n",
       "</div>"
      ],
      "text/plain": [
       "                               year_built\n",
       "primary_use                              \n",
       "Education                          1966.0\n",
       "Entertainment/public assembly      1976.0\n",
       "Food sales and service             2012.0\n",
       "Healthcare                         2000.0\n",
       "Lodging/residential                1975.0\n",
       "Manufacturing/industrial           1969.0\n",
       "Office                             1976.0\n",
       "Other                              1980.0\n",
       "Parking                            2003.0\n",
       "Public services                    1968.0\n",
       "Religious worship                  1979.0\n",
       "Retail                             1996.0\n",
       "Services                           1979.0\n",
       "Technology/science                 1942.0\n",
       "Utility                            1990.0\n",
       "Warehouse/storage                  1979.0"
      ]
     },
     "execution_count": 194,
     "metadata": {},
     "output_type": "execute_result"
    }
   ],
   "source": [
    "year_built_median.loc['Services'] = year_built_median['year_built'].median()\n",
    "year_built_median"
   ]
  },
  {
   "cell_type": "code",
   "execution_count": 195,
   "metadata": {},
   "outputs": [
    {
     "name": "stderr",
     "output_type": "stream",
     "text": [
      "C:\\Users\\Alexander\\Anaconda3\\lib\\site-packages\\ipykernel_launcher.py:3: FutureWarning: set_value is deprecated and will be removed in a future release. Please use .at[] or .iat[] accessors instead\n",
      "  This is separate from the ipykernel package so we can avoid doing imports until\n",
      "C:\\Users\\Alexander\\Anaconda3\\lib\\site-packages\\ipykernel_launcher.py:5: FutureWarning: set_value is deprecated and will be removed in a future release. Please use .at[] or .iat[] accessors instead\n",
      "  \"\"\"\n"
     ]
    },
    {
     "name": "stdout",
     "output_type": "stream",
     "text": [
      "<class 'pandas.core.frame.DataFrame'>\n",
      "RangeIndex: 1449 entries, 0 to 1448\n",
      "Data columns (total 6 columns):\n",
      "site_id        1449 non-null int64\n",
      "building_id    1449 non-null int64\n",
      "primary_use    1449 non-null object\n",
      "square_feet    1449 non-null int64\n",
      "year_built     1449 non-null float64\n",
      "floor_count    1449 non-null float64\n",
      "dtypes: float64(2), int64(3), object(1)\n",
      "memory usage: 68.0+ KB\n"
     ]
    }
   ],
   "source": [
    "for index in building_metadata.index:\n",
    "    if np.isnan(building_metadata.loc[index]['floor_count']):\n",
    "        building_metadata.set_value(index, 'floor_count', floor_count_median.loc[building_metadata.loc[index]['primary_use']].values[0])\n",
    "    if np.isnan(building_metadata.loc[index]['year_built']):\n",
    "        building_metadata.set_value(index, 'year_built', year_built_median.loc[building_metadata.loc[index]['primary_use']].values[0])\n",
    "building_metadata.info()"
   ]
  },
  {
   "cell_type": "code",
   "execution_count": 196,
   "metadata": {},
   "outputs": [],
   "source": [
    "del floor_count_median\n",
    "del year_built_median"
   ]
  },
  {
   "cell_type": "markdown",
   "metadata": {},
   "source": [
    "## Exploratory Data Analysis"
   ]
  },
  {
   "cell_type": "markdown",
   "metadata": {},
   "source": [
    "### Data Cleaning & Simple Statistics"
   ]
  },
  {
   "cell_type": "code",
   "execution_count": 197,
   "metadata": {},
   "outputs": [],
   "source": [
    "train_copy = train_data.copy()"
   ]
  },
  {
   "cell_type": "code",
   "execution_count": 198,
   "metadata": {},
   "outputs": [
    {
     "name": "stderr",
     "output_type": "stream",
     "text": [
      "C:\\Users\\Alexander\\Anaconda3\\lib\\site-packages\\scipy\\stats\\stats.py:1713: FutureWarning: Using a non-tuple sequence for multidimensional indexing is deprecated; use `arr[tuple(seq)]` instead of `arr[seq]`. In the future this will be interpreted as an array index, `arr[np.array(seq)]`, which will result either in an error or a different result.\n",
      "  return np.add.reduce(sorted[indexer] * weights, axis=axis) / sumval\n"
     ]
    },
    {
     "data": {
      "image/png": "[encoded data removed]",
      "text/plain": [
       "<Figure size 432x288 with 1 Axes>"
      ]
     },
     "metadata": {
      "needs_background": "light"
     },
     "output_type": "display_data"
    }
   ],
   "source": [
    "plt.ticklabel_format(axis='both', style='sci', scilimits=(0,10))\n",
    "plt.title(\"Histogram of meter readings\")\n",
    "\n",
    "g = sns.distplot(train_data['meter_reading'], kde = False)\n",
    "\n",
    "plt.xlabel(\"Meter readings\")\n",
    "plt.ylabel(\"Count\")\n",
    "g.set_xlim(xmin=0)\n",
    "g.set_ylim(ymin=0);"
   ]
  },
  {
   "cell_type": "markdown",
   "metadata": {},
   "source": [
    "As we can see, data contains several really big values in meter readings. We consider them as **outliers**. To tackle them we are trimming our data to 95-percentile in meter readings."
   ]
  },
  {
   "cell_type": "code",
   "execution_count": 199,
   "metadata": {},
   "outputs": [],
   "source": [
    "train_data = train_data[train_data['meter_reading'] < train_data['meter_reading'].quantile(.95)]"
   ]
  },
  {
   "cell_type": "code",
   "execution_count": 200,
   "metadata": {},
   "outputs": [
    {
     "data": {
      "image/png": "[encoded data removed]",
      "text/plain": [
       "<Figure size 432x288 with 1 Axes>"
      ]
     },
     "metadata": {
      "needs_background": "light"
     },
     "output_type": "display_data"
    }
   ],
   "source": [
    "plt.ticklabel_format(axis='both', style='sci', scilimits=(-10,10))\n",
    "plt.title(\"Histogram after removing outliers\")\n",
    "\n",
    "g = sns.distplot(train_data['meter_reading'], kde = False)\n",
    "\n",
    "plt.xlabel(\"Meter readings\")\n",
    "plt.ylabel(\"Count\")\n",
    "g.set_xlim(xmin=0)\n",
    "g.set_ylim(ymin=0);"
   ]
  },
  {
   "cell_type": "code",
   "execution_count": 201,
   "metadata": {},
   "outputs": [],
   "source": [
    "def ConvertDate(data):\n",
    "    # Convert date to datetime format\n",
    "    data['timestamp'] = pd.to_datetime(data['timestamp'])\n",
    "    \n",
    "    # Extract and store month, day and hour\n",
    "    data['month'] = data['timestamp'].dt.month\n",
    "    data['day'] = data['timestamp'].dt.day\n",
    "    data['hour'] = data['timestamp'].dt.hour\n",
    "    \n",
    "    data.drop(['timestamp'], axis=1, inplace=True)"
   ]
  },
  {
   "cell_type": "code",
   "execution_count": 202,
   "metadata": {},
   "outputs": [],
   "source": [
    "ConvertDate(train_data)\n",
    "ConvertDate(test_data)"
   ]
  },
  {
   "cell_type": "markdown",
   "metadata": {},
   "source": [
    "If we take a look at median `meter_reading` vs `hour` of the day, we can notice that the majority of energy is consumed during the day."
   ]
  },
  {
   "cell_type": "code",
   "execution_count": 203,
   "metadata": {},
   "outputs": [],
   "source": [
    "median_hour = train_data.groupby(['hour']).median()\n",
    "median_hour.reset_index(inplace=True)"
   ]
  },
  {
   "cell_type": "code",
   "execution_count": 204,
   "metadata": {},
   "outputs": [
    {
     "data": {
      "image/png": "[encoded data removed]",
      "text/plain": [
       "<Figure size 432x288 with 1 Axes>"
      ]
     },
     "metadata": {
      "needs_background": "light"
     },
     "output_type": "display_data"
    }
   ],
   "source": [
    "sns.lineplot(x='hour', y='meter_reading', data=median_hour)\n",
    "\n",
    "plt.title(\"Median meter_reading vs hour\")\n",
    "plt.xlabel(\"Hour of a day\")\n",
    "plt.ylabel(\"Median meter_reading\")\n",
    "\n",
    "g.set_xlim(xmin=0)\n",
    "g.set_ylim(ymin=0);"
   ]
  },
  {
   "cell_type": "markdown",
   "metadata": {},
   "source": [
    "Speaking about most energy consuming `month`s, **June-September** is the time period when `meter_reading`s are on the highest level."
   ]
  },
  {
   "cell_type": "code",
   "execution_count": 205,
   "metadata": {},
   "outputs": [],
   "source": [
    "median_month = train_data.groupby(['month']).median()\n",
    "median_month.reset_index(inplace=True)"
   ]
  },
  {
   "cell_type": "code",
   "execution_count": 206,
   "metadata": {},
   "outputs": [
    {
     "data": {
      "image/png": "[encoded data removed]",
      "text/plain": [
       "<Figure size 432x288 with 1 Axes>"
      ]
     },
     "metadata": {
      "needs_background": "light"
     },
     "output_type": "display_data"
    }
   ],
   "source": [
    "g = sns.lineplot(x='month', y='meter_reading', data=median_month)\n",
    "\n",
    "plt.title(\"Median meter_reading vs month\")\n",
    "plt.xlabel(\"Month\")\n",
    "plt.ylabel(\"Median meter_reading\")\n",
    "\n",
    "mnths_tpl = ('Jan', 'Feb', 'Mar', 'Apr', 'May', 'Jun', 'Jul', 'Aug', 'Sep', 'Oct', 'Nov', 'Dec')\n",
    "g.set_xticks(list(range(1, 13)))\n",
    "g.set_xticklabels(mnths_tpl)\n",
    "\n",
    "g.set_xlim(xmin=1, xmax=12);"
   ]
  },
  {
   "cell_type": "code",
   "execution_count": 207,
   "metadata": {},
   "outputs": [],
   "source": [
    "del median_hour\n",
    "del median_month"
   ]
  },
  {
   "cell_type": "code",
   "execution_count": 208,
   "metadata": {
    "scrolled": true
   },
   "outputs": [
    {
     "data": {
      "text/html": [
       "<div>\n",
       "<style scoped>\n",
       "    .dataframe tbody tr th:only-of-type {\n",
       "        vertical-align: middle;\n",
       "    }\n",
       "\n",
       "    .dataframe tbody tr th {\n",
       "        vertical-align: top;\n",
       "    }\n",
       "\n",
       "    .dataframe thead th {\n",
       "        text-align: right;\n",
       "    }\n",
       "</style>\n",
       "<table border=\"1\" class=\"dataframe\">\n",
       "  <thead>\n",
       "    <tr style=\"text-align: right;\">\n",
       "      <th></th>\n",
       "      <th>building_id</th>\n",
       "      <th>meter</th>\n",
       "      <th>meter_reading</th>\n",
       "      <th>month</th>\n",
       "      <th>day</th>\n",
       "      <th>hour</th>\n",
       "      <th>site_id</th>\n",
       "      <th>primary_use</th>\n",
       "      <th>square_feet</th>\n",
       "      <th>year_built</th>\n",
       "      <th>floor_count</th>\n",
       "    </tr>\n",
       "  </thead>\n",
       "  <tbody>\n",
       "    <tr>\n",
       "      <th>0</th>\n",
       "      <td>0</td>\n",
       "      <td>0</td>\n",
       "      <td>0.0</td>\n",
       "      <td>1</td>\n",
       "      <td>1</td>\n",
       "      <td>0</td>\n",
       "      <td>0</td>\n",
       "      <td>Education</td>\n",
       "      <td>7432</td>\n",
       "      <td>2008.0</td>\n",
       "      <td>4.0</td>\n",
       "    </tr>\n",
       "    <tr>\n",
       "      <th>2301</th>\n",
       "      <td>0</td>\n",
       "      <td>0</td>\n",
       "      <td>0.0</td>\n",
       "      <td>1</td>\n",
       "      <td>1</td>\n",
       "      <td>1</td>\n",
       "      <td>0</td>\n",
       "      <td>Education</td>\n",
       "      <td>7432</td>\n",
       "      <td>2008.0</td>\n",
       "      <td>4.0</td>\n",
       "    </tr>\n",
       "    <tr>\n",
       "      <th>4594</th>\n",
       "      <td>0</td>\n",
       "      <td>0</td>\n",
       "      <td>0.0</td>\n",
       "      <td>1</td>\n",
       "      <td>1</td>\n",
       "      <td>2</td>\n",
       "      <td>0</td>\n",
       "      <td>Education</td>\n",
       "      <td>7432</td>\n",
       "      <td>2008.0</td>\n",
       "      <td>4.0</td>\n",
       "    </tr>\n",
       "    <tr>\n",
       "      <th>6893</th>\n",
       "      <td>0</td>\n",
       "      <td>0</td>\n",
       "      <td>0.0</td>\n",
       "      <td>1</td>\n",
       "      <td>1</td>\n",
       "      <td>3</td>\n",
       "      <td>0</td>\n",
       "      <td>Education</td>\n",
       "      <td>7432</td>\n",
       "      <td>2008.0</td>\n",
       "      <td>4.0</td>\n",
       "    </tr>\n",
       "    <tr>\n",
       "      <th>9189</th>\n",
       "      <td>0</td>\n",
       "      <td>0</td>\n",
       "      <td>0.0</td>\n",
       "      <td>1</td>\n",
       "      <td>1</td>\n",
       "      <td>4</td>\n",
       "      <td>0</td>\n",
       "      <td>Education</td>\n",
       "      <td>7432</td>\n",
       "      <td>2008.0</td>\n",
       "      <td>4.0</td>\n",
       "    </tr>\n",
       "  </tbody>\n",
       "</table>\n",
       "</div>"
      ],
      "text/plain": [
       "      building_id  meter  meter_reading  month  day  hour  site_id  \\\n",
       "0               0      0            0.0      1    1     0        0   \n",
       "2301            0      0            0.0      1    1     1        0   \n",
       "4594            0      0            0.0      1    1     2        0   \n",
       "6893            0      0            0.0      1    1     3        0   \n",
       "9189            0      0            0.0      1    1     4        0   \n",
       "\n",
       "     primary_use  square_feet  year_built  floor_count  \n",
       "0      Education         7432      2008.0          4.0  \n",
       "2301   Education         7432      2008.0          4.0  \n",
       "4594   Education         7432      2008.0          4.0  \n",
       "6893   Education         7432      2008.0          4.0  \n",
       "9189   Education         7432      2008.0          4.0  "
      ]
     },
     "execution_count": 208,
     "metadata": {},
     "output_type": "execute_result"
    }
   ],
   "source": [
    "train_data = train_data.join(building_metadata.set_index('building_id'), on='building_id', how='inner')\n",
    "train_data.head()"
   ]
  },
  {
   "cell_type": "code",
   "execution_count": 209,
   "metadata": {},
   "outputs": [
    {
     "data": {
      "text/html": [
       "<div>\n",
       "<style scoped>\n",
       "    .dataframe tbody tr th:only-of-type {\n",
       "        vertical-align: middle;\n",
       "    }\n",
       "\n",
       "    .dataframe tbody tr th {\n",
       "        vertical-align: top;\n",
       "    }\n",
       "\n",
       "    .dataframe thead th {\n",
       "        text-align: right;\n",
       "    }\n",
       "</style>\n",
       "<table border=\"1\" class=\"dataframe\">\n",
       "  <thead>\n",
       "    <tr style=\"text-align: right;\">\n",
       "      <th></th>\n",
       "      <th>row_id</th>\n",
       "      <th>building_id</th>\n",
       "      <th>meter</th>\n",
       "      <th>month</th>\n",
       "      <th>day</th>\n",
       "      <th>hour</th>\n",
       "      <th>site_id</th>\n",
       "      <th>primary_use</th>\n",
       "      <th>square_feet</th>\n",
       "      <th>year_built</th>\n",
       "      <th>floor_count</th>\n",
       "    </tr>\n",
       "  </thead>\n",
       "  <tbody>\n",
       "    <tr>\n",
       "      <th>0</th>\n",
       "      <td>0</td>\n",
       "      <td>0</td>\n",
       "      <td>0</td>\n",
       "      <td>1</td>\n",
       "      <td>1</td>\n",
       "      <td>0</td>\n",
       "      <td>0</td>\n",
       "      <td>Education</td>\n",
       "      <td>7432</td>\n",
       "      <td>2008.0</td>\n",
       "      <td>4.0</td>\n",
       "    </tr>\n",
       "    <tr>\n",
       "      <th>129</th>\n",
       "      <td>129</td>\n",
       "      <td>0</td>\n",
       "      <td>0</td>\n",
       "      <td>1</td>\n",
       "      <td>1</td>\n",
       "      <td>1</td>\n",
       "      <td>0</td>\n",
       "      <td>Education</td>\n",
       "      <td>7432</td>\n",
       "      <td>2008.0</td>\n",
       "      <td>4.0</td>\n",
       "    </tr>\n",
       "    <tr>\n",
       "      <th>258</th>\n",
       "      <td>258</td>\n",
       "      <td>0</td>\n",
       "      <td>0</td>\n",
       "      <td>1</td>\n",
       "      <td>1</td>\n",
       "      <td>2</td>\n",
       "      <td>0</td>\n",
       "      <td>Education</td>\n",
       "      <td>7432</td>\n",
       "      <td>2008.0</td>\n",
       "      <td>4.0</td>\n",
       "    </tr>\n",
       "    <tr>\n",
       "      <th>387</th>\n",
       "      <td>387</td>\n",
       "      <td>0</td>\n",
       "      <td>0</td>\n",
       "      <td>1</td>\n",
       "      <td>1</td>\n",
       "      <td>3</td>\n",
       "      <td>0</td>\n",
       "      <td>Education</td>\n",
       "      <td>7432</td>\n",
       "      <td>2008.0</td>\n",
       "      <td>4.0</td>\n",
       "    </tr>\n",
       "    <tr>\n",
       "      <th>516</th>\n",
       "      <td>516</td>\n",
       "      <td>0</td>\n",
       "      <td>0</td>\n",
       "      <td>1</td>\n",
       "      <td>1</td>\n",
       "      <td>4</td>\n",
       "      <td>0</td>\n",
       "      <td>Education</td>\n",
       "      <td>7432</td>\n",
       "      <td>2008.0</td>\n",
       "      <td>4.0</td>\n",
       "    </tr>\n",
       "  </tbody>\n",
       "</table>\n",
       "</div>"
      ],
      "text/plain": [
       "     row_id  building_id  meter  month  day  hour  site_id primary_use  \\\n",
       "0         0            0      0      1    1     0        0   Education   \n",
       "129     129            0      0      1    1     1        0   Education   \n",
       "258     258            0      0      1    1     2        0   Education   \n",
       "387     387            0      0      1    1     3        0   Education   \n",
       "516     516            0      0      1    1     4        0   Education   \n",
       "\n",
       "     square_feet  year_built  floor_count  \n",
       "0           7432      2008.0          4.0  \n",
       "129         7432      2008.0          4.0  \n",
       "258         7432      2008.0          4.0  \n",
       "387         7432      2008.0          4.0  \n",
       "516         7432      2008.0          4.0  "
      ]
     },
     "execution_count": 209,
     "metadata": {},
     "output_type": "execute_result"
    }
   ],
   "source": [
    "test_data = test_data.join(building_metadata.set_index('building_id'), on='building_id', how='inner')\n",
    "test_data.head()"
   ]
  },
  {
   "cell_type": "code",
   "execution_count": 210,
   "metadata": {},
   "outputs": [],
   "source": [
    "del building_metadata"
   ]
  },
  {
   "cell_type": "code",
   "execution_count": 211,
   "metadata": {},
   "outputs": [
    {
     "data": {
      "text/html": [
       "<div>\n",
       "<style scoped>\n",
       "    .dataframe tbody tr th:only-of-type {\n",
       "        vertical-align: middle;\n",
       "    }\n",
       "\n",
       "    .dataframe tbody tr th {\n",
       "        vertical-align: top;\n",
       "    }\n",
       "\n",
       "    .dataframe thead th {\n",
       "        text-align: right;\n",
       "    }\n",
       "</style>\n",
       "<table border=\"1\" class=\"dataframe\">\n",
       "  <thead>\n",
       "    <tr style=\"text-align: right;\">\n",
       "      <th></th>\n",
       "      <th>building_id</th>\n",
       "      <th>meter</th>\n",
       "      <th>meter_reading</th>\n",
       "      <th>month</th>\n",
       "      <th>day</th>\n",
       "      <th>hour</th>\n",
       "      <th>site_id</th>\n",
       "      <th>square_feet</th>\n",
       "      <th>year_built</th>\n",
       "      <th>floor_count</th>\n",
       "    </tr>\n",
       "    <tr>\n",
       "      <th>primary_use</th>\n",
       "      <th></th>\n",
       "      <th></th>\n",
       "      <th></th>\n",
       "      <th></th>\n",
       "      <th></th>\n",
       "      <th></th>\n",
       "      <th></th>\n",
       "      <th></th>\n",
       "      <th></th>\n",
       "      <th></th>\n",
       "    </tr>\n",
       "  </thead>\n",
       "  <tbody>\n",
       "    <tr>\n",
       "      <th>Education</th>\n",
       "      <td>7630579</td>\n",
       "      <td>7630579</td>\n",
       "      <td>7630579</td>\n",
       "      <td>7630579</td>\n",
       "      <td>7630579</td>\n",
       "      <td>7630579</td>\n",
       "      <td>7630579</td>\n",
       "      <td>7630579</td>\n",
       "      <td>7630579</td>\n",
       "      <td>7630579</td>\n",
       "    </tr>\n",
       "    <tr>\n",
       "      <th>Entertainment/public assembly</th>\n",
       "      <td>2207846</td>\n",
       "      <td>2207846</td>\n",
       "      <td>2207846</td>\n",
       "      <td>2207846</td>\n",
       "      <td>2207846</td>\n",
       "      <td>2207846</td>\n",
       "      <td>2207846</td>\n",
       "      <td>2207846</td>\n",
       "      <td>2207846</td>\n",
       "      <td>2207846</td>\n",
       "    </tr>\n",
       "    <tr>\n",
       "      <th>Food sales and service</th>\n",
       "      <td>108430</td>\n",
       "      <td>108430</td>\n",
       "      <td>108430</td>\n",
       "      <td>108430</td>\n",
       "      <td>108430</td>\n",
       "      <td>108430</td>\n",
       "      <td>108430</td>\n",
       "      <td>108430</td>\n",
       "      <td>108430</td>\n",
       "      <td>108430</td>\n",
       "    </tr>\n",
       "    <tr>\n",
       "      <th>Healthcare</th>\n",
       "      <td>340718</td>\n",
       "      <td>340718</td>\n",
       "      <td>340718</td>\n",
       "      <td>340718</td>\n",
       "      <td>340718</td>\n",
       "      <td>340718</td>\n",
       "      <td>340718</td>\n",
       "      <td>340718</td>\n",
       "      <td>340718</td>\n",
       "      <td>340718</td>\n",
       "    </tr>\n",
       "    <tr>\n",
       "      <th>Lodging/residential</th>\n",
       "      <td>2078864</td>\n",
       "      <td>2078864</td>\n",
       "      <td>2078864</td>\n",
       "      <td>2078864</td>\n",
       "      <td>2078864</td>\n",
       "      <td>2078864</td>\n",
       "      <td>2078864</td>\n",
       "      <td>2078864</td>\n",
       "      <td>2078864</td>\n",
       "      <td>2078864</td>\n",
       "    </tr>\n",
       "    <tr>\n",
       "      <th>Manufacturing/industrial</th>\n",
       "      <td>121016</td>\n",
       "      <td>121016</td>\n",
       "      <td>121016</td>\n",
       "      <td>121016</td>\n",
       "      <td>121016</td>\n",
       "      <td>121016</td>\n",
       "      <td>121016</td>\n",
       "      <td>121016</td>\n",
       "      <td>121016</td>\n",
       "      <td>121016</td>\n",
       "    </tr>\n",
       "    <tr>\n",
       "      <th>Office</th>\n",
       "      <td>4185981</td>\n",
       "      <td>4185981</td>\n",
       "      <td>4185981</td>\n",
       "      <td>4185981</td>\n",
       "      <td>4185981</td>\n",
       "      <td>4185981</td>\n",
       "      <td>4185981</td>\n",
       "      <td>4185981</td>\n",
       "      <td>4185981</td>\n",
       "      <td>4185981</td>\n",
       "    </tr>\n",
       "    <tr>\n",
       "      <th>Other</th>\n",
       "      <td>236903</td>\n",
       "      <td>236903</td>\n",
       "      <td>236903</td>\n",
       "      <td>236903</td>\n",
       "      <td>236903</td>\n",
       "      <td>236903</td>\n",
       "      <td>236903</td>\n",
       "      <td>236903</td>\n",
       "      <td>236903</td>\n",
       "      <td>236903</td>\n",
       "    </tr>\n",
       "    <tr>\n",
       "      <th>Parking</th>\n",
       "      <td>209273</td>\n",
       "      <td>209273</td>\n",
       "      <td>209273</td>\n",
       "      <td>209273</td>\n",
       "      <td>209273</td>\n",
       "      <td>209273</td>\n",
       "      <td>209273</td>\n",
       "      <td>209273</td>\n",
       "      <td>209273</td>\n",
       "      <td>209273</td>\n",
       "    </tr>\n",
       "    <tr>\n",
       "      <th>Public services</th>\n",
       "      <td>1612493</td>\n",
       "      <td>1612493</td>\n",
       "      <td>1612493</td>\n",
       "      <td>1612493</td>\n",
       "      <td>1612493</td>\n",
       "      <td>1612493</td>\n",
       "      <td>1612493</td>\n",
       "      <td>1612493</td>\n",
       "      <td>1612493</td>\n",
       "      <td>1612493</td>\n",
       "    </tr>\n",
       "    <tr>\n",
       "      <th>Religious worship</th>\n",
       "      <td>32361</td>\n",
       "      <td>32361</td>\n",
       "      <td>32361</td>\n",
       "      <td>32361</td>\n",
       "      <td>32361</td>\n",
       "      <td>32361</td>\n",
       "      <td>32361</td>\n",
       "      <td>32361</td>\n",
       "      <td>32361</td>\n",
       "      <td>32361</td>\n",
       "    </tr>\n",
       "    <tr>\n",
       "      <th>Retail</th>\n",
       "      <td>111279</td>\n",
       "      <td>111279</td>\n",
       "      <td>111279</td>\n",
       "      <td>111279</td>\n",
       "      <td>111279</td>\n",
       "      <td>111279</td>\n",
       "      <td>111279</td>\n",
       "      <td>111279</td>\n",
       "      <td>111279</td>\n",
       "      <td>111279</td>\n",
       "    </tr>\n",
       "    <tr>\n",
       "      <th>Services</th>\n",
       "      <td>88352</td>\n",
       "      <td>88352</td>\n",
       "      <td>88352</td>\n",
       "      <td>88352</td>\n",
       "      <td>88352</td>\n",
       "      <td>88352</td>\n",
       "      <td>88352</td>\n",
       "      <td>88352</td>\n",
       "      <td>88352</td>\n",
       "      <td>88352</td>\n",
       "    </tr>\n",
       "    <tr>\n",
       "      <th>Technology/science</th>\n",
       "      <td>77380</td>\n",
       "      <td>77380</td>\n",
       "      <td>77380</td>\n",
       "      <td>77380</td>\n",
       "      <td>77380</td>\n",
       "      <td>77380</td>\n",
       "      <td>77380</td>\n",
       "      <td>77380</td>\n",
       "      <td>77380</td>\n",
       "      <td>77380</td>\n",
       "    </tr>\n",
       "    <tr>\n",
       "      <th>Utility</th>\n",
       "      <td>51961</td>\n",
       "      <td>51961</td>\n",
       "      <td>51961</td>\n",
       "      <td>51961</td>\n",
       "      <td>51961</td>\n",
       "      <td>51961</td>\n",
       "      <td>51961</td>\n",
       "      <td>51961</td>\n",
       "      <td>51961</td>\n",
       "      <td>51961</td>\n",
       "    </tr>\n",
       "    <tr>\n",
       "      <th>Warehouse/storage</th>\n",
       "      <td>111861</td>\n",
       "      <td>111861</td>\n",
       "      <td>111861</td>\n",
       "      <td>111861</td>\n",
       "      <td>111861</td>\n",
       "      <td>111861</td>\n",
       "      <td>111861</td>\n",
       "      <td>111861</td>\n",
       "      <td>111861</td>\n",
       "      <td>111861</td>\n",
       "    </tr>\n",
       "  </tbody>\n",
       "</table>\n",
       "</div>"
      ],
      "text/plain": [
       "                               building_id    meter  meter_reading    month  \\\n",
       "primary_use                                                                   \n",
       "Education                          7630579  7630579        7630579  7630579   \n",
       "Entertainment/public assembly      2207846  2207846        2207846  2207846   \n",
       "Food sales and service              108430   108430         108430   108430   \n",
       "Healthcare                          340718   340718         340718   340718   \n",
       "Lodging/residential                2078864  2078864        2078864  2078864   \n",
       "Manufacturing/industrial            121016   121016         121016   121016   \n",
       "Office                             4185981  4185981        4185981  4185981   \n",
       "Other                               236903   236903         236903   236903   \n",
       "Parking                             209273   209273         209273   209273   \n",
       "Public services                    1612493  1612493        1612493  1612493   \n",
       "Religious worship                    32361    32361          32361    32361   \n",
       "Retail                              111279   111279         111279   111279   \n",
       "Services                             88352    88352          88352    88352   \n",
       "Technology/science                   77380    77380          77380    77380   \n",
       "Utility                              51961    51961          51961    51961   \n",
       "Warehouse/storage                   111861   111861         111861   111861   \n",
       "\n",
       "                                   day     hour  site_id  square_feet  \\\n",
       "primary_use                                                             \n",
       "Education                      7630579  7630579  7630579      7630579   \n",
       "Entertainment/public assembly  2207846  2207846  2207846      2207846   \n",
       "Food sales and service          108430   108430   108430       108430   \n",
       "Healthcare                      340718   340718   340718       340718   \n",
       "Lodging/residential            2078864  2078864  2078864      2078864   \n",
       "Manufacturing/industrial        121016   121016   121016       121016   \n",
       "Office                         4185981  4185981  4185981      4185981   \n",
       "Other                           236903   236903   236903       236903   \n",
       "Parking                         209273   209273   209273       209273   \n",
       "Public services                1612493  1612493  1612493      1612493   \n",
       "Religious worship                32361    32361    32361        32361   \n",
       "Retail                          111279   111279   111279       111279   \n",
       "Services                         88352    88352    88352        88352   \n",
       "Technology/science               77380    77380    77380        77380   \n",
       "Utility                          51961    51961    51961        51961   \n",
       "Warehouse/storage               111861   111861   111861       111861   \n",
       "\n",
       "                               year_built  floor_count  \n",
       "primary_use                                             \n",
       "Education                         7630579      7630579  \n",
       "Entertainment/public assembly     2207846      2207846  \n",
       "Food sales and service             108430       108430  \n",
       "Healthcare                         340718       340718  \n",
       "Lodging/residential               2078864      2078864  \n",
       "Manufacturing/industrial           121016       121016  \n",
       "Office                            4185981      4185981  \n",
       "Other                              236903       236903  \n",
       "Parking                            209273       209273  \n",
       "Public services                   1612493      1612493  \n",
       "Religious worship                   32361        32361  \n",
       "Retail                             111279       111279  \n",
       "Services                            88352        88352  \n",
       "Technology/science                  77380        77380  \n",
       "Utility                             51961        51961  \n",
       "Warehouse/storage                  111861       111861  "
      ]
     },
     "execution_count": 211,
     "metadata": {},
     "output_type": "execute_result"
    }
   ],
   "source": [
    "number_by_categories = train_data.groupby(['primary_use']).count()\n",
    "number_by_categories"
   ]
  },
  {
   "cell_type": "code",
   "execution_count": 212,
   "metadata": {},
   "outputs": [],
   "source": [
    "number_by_categories_series = number_by_categories['meter_reading']\n",
    "number_by_categories_series = number_by_categories_series.sort_values(ascending=False)"
   ]
  },
  {
   "cell_type": "code",
   "execution_count": 213,
   "metadata": {},
   "outputs": [
    {
     "data": {
      "image/png": "[encoded data removed]",
      "text/plain": [
       "<Figure size 432x288 with 1 Axes>"
      ]
     },
     "metadata": {
      "needs_background": "light"
     },
     "output_type": "display_data"
    }
   ],
   "source": [
    "g = sns.barplot(x=number_by_categories_series.values, y=number_by_categories_series.index)\n",
    "\n",
    "plt.title(\"Number of meter_readings per building category\")\n",
    "plt.xlabel(\"Number of meter_readings\")\n",
    "plt.ylabel(\"Category of buildings\")\n",
    "plt.xticks(rotation=45);"
   ]
  },
  {
   "cell_type": "markdown",
   "metadata": {},
   "source": [
    "According to the barplot, most readings are obtained for the **\"Education\"** type buildings, consequently it is likely that better results will be achieved for buildings of this type."
   ]
  },
  {
   "cell_type": "code",
   "execution_count": 214,
   "metadata": {},
   "outputs": [],
   "source": [
    "del number_by_categories\n",
    "del number_by_categories_series"
   ]
  },
  {
   "cell_type": "code",
   "execution_count": 215,
   "metadata": {},
   "outputs": [
    {
     "data": {
      "image/png": "[encoded data removed]",
      "text/plain": [
       "<Figure size 432x288 with 1 Axes>"
      ]
     },
     "metadata": {
      "needs_background": "light"
     },
     "output_type": "display_data"
    }
   ],
   "source": [
    "g = sns.distplot(train_data['square_feet'], kde = False)\n",
    "\n",
    "plt.title(\"Number of meter readings per building category\")\n",
    "plt.xlabel(\"Number of meter readings\")\n",
    "plt.ylabel(\"Category of buildings\")\n",
    "\n",
    "g.set_xlim(xmin=0)\n",
    "g.set_ylim(ymin=0);"
   ]
  },
  {
   "cell_type": "markdown",
   "metadata": {},
   "source": [
    "Total area of buildings is skewed but there are no isolated outliers. There are groups of buildings with big area:"
   ]
  },
  {
   "cell_type": "code",
   "execution_count": 216,
   "metadata": {},
   "outputs": [
    {
     "data": {
      "image/png": "[encoded data removed]",
      "text/plain": [
       "<Figure size 432x288 with 1 Axes>"
      ]
     },
     "metadata": {
      "needs_background": "light"
     },
     "output_type": "display_data"
    }
   ],
   "source": [
    "g = sns.boxplot(train_data['square_feet'])\n",
    "\n",
    "plt.title(\"Boxplot for areas of buildings\")\n",
    "plt.xlabel(\"Areas in square feet\");"
   ]
  },
  {
   "cell_type": "markdown",
   "metadata": {},
   "source": [
    "Dataset contains **4 types** of `meter` but number of readings might be to different between those types."
   ]
  },
  {
   "cell_type": "code",
   "execution_count": 217,
   "metadata": {},
   "outputs": [
    {
     "data": {
      "image/png": "[encoded data removed]",
      "text/plain": [
       "<Figure size 432x288 with 1 Axes>"
      ]
     },
     "metadata": {
      "needs_background": "light"
     },
     "output_type": "display_data"
    }
   ],
   "source": [
    "plt.ticklabel_format(axis='both', style='sci', scilimits=(-10,10))\n",
    "g = sns.countplot(train_data['meter'])\n",
    "\n",
    "plt.title(\"Number of meter readings for all meters\")\n",
    "plt.xlabel(\"Meter type\")\n",
    "plt.ylabel(\"Count of meter readings\")\n",
    "\n",
    "meter_tpl = ('electricity', 'chilledwater', 'steam', 'hotwater')\n",
    "g.set_xticks(list(range(0, 4)))\n",
    "g.set_xticklabels(meter_tpl);"
   ]
  },
  {
   "cell_type": "markdown",
   "metadata": {},
   "source": [
    "There are more readings of **electricity** than readings of all other meter types, therefore our main priority will be to predict electricity readings."
   ]
  },
  {
   "cell_type": "markdown",
   "metadata": {},
   "source": [
    "### Statistics"
   ]
  },
  {
   "cell_type": "code",
   "execution_count": 218,
   "metadata": {},
   "outputs": [],
   "source": [
    "def Encode(data, feature, encoder):\n",
    "    data[feature] = encoder.transform(data[feature])"
   ]
  },
  {
   "cell_type": "markdown",
   "metadata": {},
   "source": [
    "We need to encode categorical variable `primary_use`. It has strings with names of buildings use and we need to convert values to the numerical type."
   ]
  },
  {
   "cell_type": "code",
   "execution_count": 219,
   "metadata": {},
   "outputs": [],
   "source": [
    "label_encoder = LabelEncoder()\n",
    "feature = 'primary_use'\n",
    "label_encoder.fit(train_data[feature])\n",
    "Encode(train_data, feature, label_encoder)\n",
    "Encode(test_data, feature, label_encoder)"
   ]
  },
  {
   "cell_type": "markdown",
   "metadata": {},
   "source": [
    "Take a look at **correlation** of features with our target `meter_reading`"
   ]
  },
  {
   "cell_type": "code",
   "execution_count": 220,
   "metadata": {},
   "outputs": [
    {
     "data": {
      "text/html": [
       "<div>\n",
       "<style scoped>\n",
       "    .dataframe tbody tr th:only-of-type {\n",
       "        vertical-align: middle;\n",
       "    }\n",
       "\n",
       "    .dataframe tbody tr th {\n",
       "        vertical-align: top;\n",
       "    }\n",
       "\n",
       "    .dataframe thead th {\n",
       "        text-align: right;\n",
       "    }\n",
       "</style>\n",
       "<table border=\"1\" class=\"dataframe\">\n",
       "  <thead>\n",
       "    <tr style=\"text-align: right;\">\n",
       "      <th></th>\n",
       "      <th>building_id</th>\n",
       "      <th>meter</th>\n",
       "      <th>meter_reading</th>\n",
       "      <th>month</th>\n",
       "      <th>day</th>\n",
       "      <th>hour</th>\n",
       "      <th>site_id</th>\n",
       "      <th>primary_use</th>\n",
       "      <th>square_feet</th>\n",
       "      <th>year_built</th>\n",
       "      <th>floor_count</th>\n",
       "    </tr>\n",
       "  </thead>\n",
       "  <tbody>\n",
       "    <tr>\n",
       "      <th>building_id</th>\n",
       "      <td>1.000000</td>\n",
       "      <td>0.197652</td>\n",
       "      <td>0.114828</td>\n",
       "      <td>0.019296</td>\n",
       "      <td>-0.000388</td>\n",
       "      <td>0.000923</td>\n",
       "      <td>0.980673</td>\n",
       "      <td>0.059921</td>\n",
       "      <td>0.073179</td>\n",
       "      <td>-0.071803</td>\n",
       "      <td>-0.096206</td>\n",
       "    </tr>\n",
       "    <tr>\n",
       "      <th>meter</th>\n",
       "      <td>0.197652</td>\n",
       "      <td>1.000000</td>\n",
       "      <td>0.154858</td>\n",
       "      <td>0.010079</td>\n",
       "      <td>0.000111</td>\n",
       "      <td>0.000238</td>\n",
       "      <td>0.228114</td>\n",
       "      <td>-0.082682</td>\n",
       "      <td>0.113018</td>\n",
       "      <td>0.005533</td>\n",
       "      <td>0.060753</td>\n",
       "    </tr>\n",
       "    <tr>\n",
       "      <th>meter_reading</th>\n",
       "      <td>0.114828</td>\n",
       "      <td>0.154858</td>\n",
       "      <td>1.000000</td>\n",
       "      <td>0.029174</td>\n",
       "      <td>0.003368</td>\n",
       "      <td>0.025097</td>\n",
       "      <td>0.126673</td>\n",
       "      <td>-0.083044</td>\n",
       "      <td>0.399734</td>\n",
       "      <td>0.088824</td>\n",
       "      <td>0.070158</td>\n",
       "    </tr>\n",
       "    <tr>\n",
       "      <th>month</th>\n",
       "      <td>0.019296</td>\n",
       "      <td>0.010079</td>\n",
       "      <td>0.029174</td>\n",
       "      <td>1.000000</td>\n",
       "      <td>0.010611</td>\n",
       "      <td>-0.000730</td>\n",
       "      <td>0.019023</td>\n",
       "      <td>-0.001398</td>\n",
       "      <td>-0.002573</td>\n",
       "      <td>-0.005064</td>\n",
       "      <td>0.002715</td>\n",
       "    </tr>\n",
       "    <tr>\n",
       "      <th>day</th>\n",
       "      <td>-0.000388</td>\n",
       "      <td>0.000111</td>\n",
       "      <td>0.003368</td>\n",
       "      <td>0.010611</td>\n",
       "      <td>1.000000</td>\n",
       "      <td>0.000259</td>\n",
       "      <td>-0.000454</td>\n",
       "      <td>0.000399</td>\n",
       "      <td>-0.001434</td>\n",
       "      <td>0.000106</td>\n",
       "      <td>-0.000788</td>\n",
       "    </tr>\n",
       "  </tbody>\n",
       "</table>\n",
       "</div>"
      ],
      "text/plain": [
       "               building_id     meter  meter_reading     month       day  \\\n",
       "building_id       1.000000  0.197652       0.114828  0.019296 -0.000388   \n",
       "meter             0.197652  1.000000       0.154858  0.010079  0.000111   \n",
       "meter_reading     0.114828  0.154858       1.000000  0.029174  0.003368   \n",
       "month             0.019296  0.010079       0.029174  1.000000  0.010611   \n",
       "day              -0.000388  0.000111       0.003368  0.010611  1.000000   \n",
       "\n",
       "                   hour   site_id  primary_use  square_feet  year_built  \\\n",
       "building_id    0.000923  0.980673     0.059921     0.073179   -0.071803   \n",
       "meter          0.000238  0.228114    -0.082682     0.113018    0.005533   \n",
       "meter_reading  0.025097  0.126673    -0.083044     0.399734    0.088824   \n",
       "month         -0.000730  0.019023    -0.001398    -0.002573   -0.005064   \n",
       "day            0.000259 -0.000454     0.000399    -0.001434    0.000106   \n",
       "\n",
       "               floor_count  \n",
       "building_id      -0.096206  \n",
       "meter             0.060753  \n",
       "meter_reading     0.070158  \n",
       "month             0.002715  \n",
       "day              -0.000788  "
      ]
     },
     "execution_count": 220,
     "metadata": {},
     "output_type": "execute_result"
    }
   ],
   "source": [
    "correlation = train_data.corr()\n",
    "correlation.head()"
   ]
  },
  {
   "cell_type": "code",
   "execution_count": 221,
   "metadata": {},
   "outputs": [
    {
     "data": {
      "image/png": "[encoded data removed]",
      "text/plain": [
       "<Figure size 432x288 with 1 Axes>"
      ]
     },
     "metadata": {
      "needs_background": "light"
     },
     "output_type": "display_data"
    }
   ],
   "source": [
    "correlation_series = correlation['meter_reading'].drop(['meter_reading'])\n",
    "\n",
    "g = sns.barplot(x=correlation_series.values, y=correlation_series.index)\n",
    "\n",
    "plt.title(\"Correlation with meter_reading\")\n",
    "plt.xticks(rotation=45)\n",
    "plt.xlabel(\"Pearson Correlation Coefficient\")\n",
    "plt.ylabel(\"Features\");"
   ]
  },
  {
   "cell_type": "markdown",
   "metadata": {},
   "source": [
    "No strongly correlated features."
   ]
  },
  {
   "cell_type": "code",
   "execution_count": 222,
   "metadata": {},
   "outputs": [],
   "source": [
    "del correlation\n",
    "del correlation_series"
   ]
  },
  {
   "cell_type": "markdown",
   "metadata": {},
   "source": [
    "Inspect **correlation of different powers** of features (e.g. $floor\\_count^2$) with the **electricity target** (`meter` == 0)."
   ]
  },
  {
   "cell_type": "code",
   "execution_count": 223,
   "metadata": {},
   "outputs": [],
   "source": [
    "def SplitIntoEnergyTypes(data):\n",
    "    data_electricity = data[data['meter'] == 0].drop(['building_id', 'meter'], axis=1)\n",
    "    data_chilledWater = data[data['meter'] == 1].drop(['building_id', 'meter'], axis=1)\n",
    "    data_steam = data[data['meter'] == 2].drop(['building_id', 'meter'], axis=1)\n",
    "    data_hotWater = data[data['meter'] == 3].drop(['building_id', 'meter'], axis=1)\n",
    "    return data_electricity, data_chilledWater, data_steam, data_hotWater"
   ]
  },
  {
   "cell_type": "code",
   "execution_count": 224,
   "metadata": {},
   "outputs": [],
   "source": [
    "train_data_electricity, train_data_chilledWater, train_data_steam, train_data_hotWater = SplitIntoEnergyTypes(train_data)"
   ]
  },
  {
   "cell_type": "code",
   "execution_count": 225,
   "metadata": {},
   "outputs": [],
   "source": [
    "test_data_electricity, test_data_chilledWater, test_data_steam, test_data_hotWater = SplitIntoEnergyTypes(test_data)"
   ]
  },
  {
   "cell_type": "code",
   "execution_count": 226,
   "metadata": {},
   "outputs": [
    {
     "data": {
      "text/html": [
       "<div>\n",
       "<style scoped>\n",
       "    .dataframe tbody tr th:only-of-type {\n",
       "        vertical-align: middle;\n",
       "    }\n",
       "\n",
       "    .dataframe tbody tr th {\n",
       "        vertical-align: top;\n",
       "    }\n",
       "\n",
       "    .dataframe thead th {\n",
       "        text-align: right;\n",
       "    }\n",
       "</style>\n",
       "<table border=\"1\" class=\"dataframe\">\n",
       "  <thead>\n",
       "    <tr style=\"text-align: right;\">\n",
       "      <th></th>\n",
       "      <th>meter_reading</th>\n",
       "      <th>month</th>\n",
       "      <th>day</th>\n",
       "      <th>hour</th>\n",
       "      <th>site_id</th>\n",
       "      <th>primary_use</th>\n",
       "      <th>square_feet</th>\n",
       "      <th>year_built</th>\n",
       "      <th>floor_count</th>\n",
       "    </tr>\n",
       "  </thead>\n",
       "  <tbody>\n",
       "    <tr>\n",
       "      <th>0</th>\n",
       "      <td>0.0</td>\n",
       "      <td>1</td>\n",
       "      <td>1</td>\n",
       "      <td>0</td>\n",
       "      <td>0</td>\n",
       "      <td>0</td>\n",
       "      <td>7432</td>\n",
       "      <td>2008.0</td>\n",
       "      <td>4.0</td>\n",
       "    </tr>\n",
       "    <tr>\n",
       "      <th>2301</th>\n",
       "      <td>0.0</td>\n",
       "      <td>1</td>\n",
       "      <td>1</td>\n",
       "      <td>1</td>\n",
       "      <td>0</td>\n",
       "      <td>0</td>\n",
       "      <td>7432</td>\n",
       "      <td>2008.0</td>\n",
       "      <td>4.0</td>\n",
       "    </tr>\n",
       "    <tr>\n",
       "      <th>4594</th>\n",
       "      <td>0.0</td>\n",
       "      <td>1</td>\n",
       "      <td>1</td>\n",
       "      <td>2</td>\n",
       "      <td>0</td>\n",
       "      <td>0</td>\n",
       "      <td>7432</td>\n",
       "      <td>2008.0</td>\n",
       "      <td>4.0</td>\n",
       "    </tr>\n",
       "    <tr>\n",
       "      <th>6893</th>\n",
       "      <td>0.0</td>\n",
       "      <td>1</td>\n",
       "      <td>1</td>\n",
       "      <td>3</td>\n",
       "      <td>0</td>\n",
       "      <td>0</td>\n",
       "      <td>7432</td>\n",
       "      <td>2008.0</td>\n",
       "      <td>4.0</td>\n",
       "    </tr>\n",
       "    <tr>\n",
       "      <th>9189</th>\n",
       "      <td>0.0</td>\n",
       "      <td>1</td>\n",
       "      <td>1</td>\n",
       "      <td>4</td>\n",
       "      <td>0</td>\n",
       "      <td>0</td>\n",
       "      <td>7432</td>\n",
       "      <td>2008.0</td>\n",
       "      <td>4.0</td>\n",
       "    </tr>\n",
       "  </tbody>\n",
       "</table>\n",
       "</div>"
      ],
      "text/plain": [
       "      meter_reading  month  day  hour  site_id  primary_use  square_feet  \\\n",
       "0               0.0      1    1     0        0            0         7432   \n",
       "2301            0.0      1    1     1        0            0         7432   \n",
       "4594            0.0      1    1     2        0            0         7432   \n",
       "6893            0.0      1    1     3        0            0         7432   \n",
       "9189            0.0      1    1     4        0            0         7432   \n",
       "\n",
       "      year_built  floor_count  \n",
       "0         2008.0          4.0  \n",
       "2301      2008.0          4.0  \n",
       "4594      2008.0          4.0  \n",
       "6893      2008.0          4.0  \n",
       "9189      2008.0          4.0  "
      ]
     },
     "execution_count": 226,
     "metadata": {},
     "output_type": "execute_result"
    }
   ],
   "source": [
    "train_data_electricity.head()"
   ]
  },
  {
   "cell_type": "code",
   "execution_count": 227,
   "metadata": {},
   "outputs": [
    {
     "data": {
      "text/html": [
       "<div>\n",
       "<style scoped>\n",
       "    .dataframe tbody tr th:only-of-type {\n",
       "        vertical-align: middle;\n",
       "    }\n",
       "\n",
       "    .dataframe tbody tr th {\n",
       "        vertical-align: top;\n",
       "    }\n",
       "\n",
       "    .dataframe thead th {\n",
       "        text-align: right;\n",
       "    }\n",
       "</style>\n",
       "<table border=\"1\" class=\"dataframe\">\n",
       "  <thead>\n",
       "    <tr style=\"text-align: right;\">\n",
       "      <th></th>\n",
       "      <th>row_id</th>\n",
       "      <th>month</th>\n",
       "      <th>day</th>\n",
       "      <th>hour</th>\n",
       "      <th>site_id</th>\n",
       "      <th>primary_use</th>\n",
       "      <th>square_feet</th>\n",
       "      <th>year_built</th>\n",
       "      <th>floor_count</th>\n",
       "    </tr>\n",
       "  </thead>\n",
       "  <tbody>\n",
       "    <tr>\n",
       "      <th>0</th>\n",
       "      <td>0</td>\n",
       "      <td>1</td>\n",
       "      <td>1</td>\n",
       "      <td>0</td>\n",
       "      <td>0</td>\n",
       "      <td>0</td>\n",
       "      <td>7432</td>\n",
       "      <td>2008.0</td>\n",
       "      <td>4.0</td>\n",
       "    </tr>\n",
       "    <tr>\n",
       "      <th>129</th>\n",
       "      <td>129</td>\n",
       "      <td>1</td>\n",
       "      <td>1</td>\n",
       "      <td>1</td>\n",
       "      <td>0</td>\n",
       "      <td>0</td>\n",
       "      <td>7432</td>\n",
       "      <td>2008.0</td>\n",
       "      <td>4.0</td>\n",
       "    </tr>\n",
       "    <tr>\n",
       "      <th>258</th>\n",
       "      <td>258</td>\n",
       "      <td>1</td>\n",
       "      <td>1</td>\n",
       "      <td>2</td>\n",
       "      <td>0</td>\n",
       "      <td>0</td>\n",
       "      <td>7432</td>\n",
       "      <td>2008.0</td>\n",
       "      <td>4.0</td>\n",
       "    </tr>\n",
       "    <tr>\n",
       "      <th>387</th>\n",
       "      <td>387</td>\n",
       "      <td>1</td>\n",
       "      <td>1</td>\n",
       "      <td>3</td>\n",
       "      <td>0</td>\n",
       "      <td>0</td>\n",
       "      <td>7432</td>\n",
       "      <td>2008.0</td>\n",
       "      <td>4.0</td>\n",
       "    </tr>\n",
       "    <tr>\n",
       "      <th>516</th>\n",
       "      <td>516</td>\n",
       "      <td>1</td>\n",
       "      <td>1</td>\n",
       "      <td>4</td>\n",
       "      <td>0</td>\n",
       "      <td>0</td>\n",
       "      <td>7432</td>\n",
       "      <td>2008.0</td>\n",
       "      <td>4.0</td>\n",
       "    </tr>\n",
       "  </tbody>\n",
       "</table>\n",
       "</div>"
      ],
      "text/plain": [
       "     row_id  month  day  hour  site_id  primary_use  square_feet  year_built  \\\n",
       "0         0      1    1     0        0            0         7432      2008.0   \n",
       "129     129      1    1     1        0            0         7432      2008.0   \n",
       "258     258      1    1     2        0            0         7432      2008.0   \n",
       "387     387      1    1     3        0            0         7432      2008.0   \n",
       "516     516      1    1     4        0            0         7432      2008.0   \n",
       "\n",
       "     floor_count  \n",
       "0            4.0  \n",
       "129          4.0  \n",
       "258          4.0  \n",
       "387          4.0  \n",
       "516          4.0  "
      ]
     },
     "execution_count": 227,
     "metadata": {},
     "output_type": "execute_result"
    }
   ],
   "source": [
    "test_data_electricity.head()"
   ]
  },
  {
   "cell_type": "code",
   "execution_count": 228,
   "metadata": {},
   "outputs": [],
   "source": [
    "del train_data\n",
    "del test_data"
   ]
  },
  {
   "cell_type": "code",
   "execution_count": 229,
   "metadata": {},
   "outputs": [],
   "source": [
    "def FeaturesTargetSplit(data):\n",
    "    target = data['meter_reading']\n",
    "    features = data.drop(['meter_reading'], axis=1)\n",
    "    \n",
    "    return features, target"
   ]
  },
  {
   "cell_type": "code",
   "execution_count": 230,
   "metadata": {},
   "outputs": [],
   "source": [
    "features_electricity, target_electricity = \\\n",
    "    FeaturesTargetSplit(train_data_electricity)"
   ]
  },
  {
   "cell_type": "code",
   "execution_count": 231,
   "metadata": {},
   "outputs": [
    {
     "data": {
      "text/html": [
       "<div>\n",
       "<style scoped>\n",
       "    .dataframe tbody tr th:only-of-type {\n",
       "        vertical-align: middle;\n",
       "    }\n",
       "\n",
       "    .dataframe tbody tr th {\n",
       "        vertical-align: top;\n",
       "    }\n",
       "\n",
       "    .dataframe thead th {\n",
       "        text-align: right;\n",
       "    }\n",
       "</style>\n",
       "<table border=\"1\" class=\"dataframe\">\n",
       "  <thead>\n",
       "    <tr style=\"text-align: right;\">\n",
       "      <th></th>\n",
       "      <th>month</th>\n",
       "      <th>day</th>\n",
       "      <th>hour</th>\n",
       "      <th>site_id</th>\n",
       "      <th>primary_use</th>\n",
       "      <th>square_feet</th>\n",
       "      <th>year_built</th>\n",
       "      <th>floor_count</th>\n",
       "    </tr>\n",
       "  </thead>\n",
       "  <tbody>\n",
       "    <tr>\n",
       "      <th>0</th>\n",
       "      <td>1</td>\n",
       "      <td>1</td>\n",
       "      <td>0</td>\n",
       "      <td>0</td>\n",
       "      <td>0</td>\n",
       "      <td>7432</td>\n",
       "      <td>2008.0</td>\n",
       "      <td>4.0</td>\n",
       "    </tr>\n",
       "    <tr>\n",
       "      <th>2301</th>\n",
       "      <td>1</td>\n",
       "      <td>1</td>\n",
       "      <td>1</td>\n",
       "      <td>0</td>\n",
       "      <td>0</td>\n",
       "      <td>7432</td>\n",
       "      <td>2008.0</td>\n",
       "      <td>4.0</td>\n",
       "    </tr>\n",
       "    <tr>\n",
       "      <th>4594</th>\n",
       "      <td>1</td>\n",
       "      <td>1</td>\n",
       "      <td>2</td>\n",
       "      <td>0</td>\n",
       "      <td>0</td>\n",
       "      <td>7432</td>\n",
       "      <td>2008.0</td>\n",
       "      <td>4.0</td>\n",
       "    </tr>\n",
       "    <tr>\n",
       "      <th>6893</th>\n",
       "      <td>1</td>\n",
       "      <td>1</td>\n",
       "      <td>3</td>\n",
       "      <td>0</td>\n",
       "      <td>0</td>\n",
       "      <td>7432</td>\n",
       "      <td>2008.0</td>\n",
       "      <td>4.0</td>\n",
       "    </tr>\n",
       "    <tr>\n",
       "      <th>9189</th>\n",
       "      <td>1</td>\n",
       "      <td>1</td>\n",
       "      <td>4</td>\n",
       "      <td>0</td>\n",
       "      <td>0</td>\n",
       "      <td>7432</td>\n",
       "      <td>2008.0</td>\n",
       "      <td>4.0</td>\n",
       "    </tr>\n",
       "  </tbody>\n",
       "</table>\n",
       "</div>"
      ],
      "text/plain": [
       "      month  day  hour  site_id  primary_use  square_feet  year_built  \\\n",
       "0         1    1     0        0            0         7432      2008.0   \n",
       "2301      1    1     1        0            0         7432      2008.0   \n",
       "4594      1    1     2        0            0         7432      2008.0   \n",
       "6893      1    1     3        0            0         7432      2008.0   \n",
       "9189      1    1     4        0            0         7432      2008.0   \n",
       "\n",
       "      floor_count  \n",
       "0             4.0  \n",
       "2301          4.0  \n",
       "4594          4.0  \n",
       "6893          4.0  \n",
       "9189          4.0  "
      ]
     },
     "execution_count": 231,
     "metadata": {},
     "output_type": "execute_result"
    }
   ],
   "source": [
    "features_electricity.head()"
   ]
  },
  {
   "cell_type": "code",
   "execution_count": 232,
   "metadata": {},
   "outputs": [
    {
     "data": {
      "image/png": "[encoded data removed]",
      "text/plain": [
       "<Figure size 1440x720 with 8 Axes>"
      ]
     },
     "metadata": {
      "needs_background": "light"
     },
     "output_type": "display_data"
    }
   ],
   "source": [
    "plt.figure(figsize=(20,10))\n",
    " \n",
    "list_of_powered_features = []\n",
    "features_corr_dict = {}\n",
    " \n",
    "for i in range(1, 5):\n",
    "    new_columns = []\n",
    "    features_powered = features_electricity ** i\n",
    "    \n",
    "    # give columns appropriate names\n",
    "    for column in features_powered.columns:\n",
    "        new_columns.append(column + '^{0}'.format(i))\n",
    "    features_powered.columns = new_columns\n",
    " \n",
    "    list_of_powered_features.append(features_powered)\n",
    "    \n",
    "    data_2power = features_powered\n",
    "    data_2power['target'] = target_electricity\n",
    "    correlation = data_2power.corr()\n",
    "    \n",
    "    # add values to the dictionary of feature correlation\n",
    "    target_column = correlation['target']\n",
    "    for j in range(target_column.shape[0]):\n",
    "        key = target_column.index.values[j]\n",
    "        if key != 'target':\n",
    "            value = target_column.iloc[j]\n",
    "            features_corr_dict[key] = value\n",
    " \n",
    "    plt.subplot(2,2,i)\n",
    "    ax = sns.heatmap(correlation)"
   ]
  },
  {
   "cell_type": "code",
   "execution_count": 233,
   "metadata": {},
   "outputs": [],
   "source": [
    "sorted_features_corr_dict = sorted(features_corr_dict.items(), key=lambda kv: kv[1])\n",
    "sorted_features_corr_dict.reverse()"
   ]
  },
  {
   "cell_type": "markdown",
   "metadata": {},
   "source": [
    "**Top 5 of correlating features**"
   ]
  },
  {
   "cell_type": "code",
   "execution_count": 234,
   "metadata": {},
   "outputs": [
    {
     "name": "stdout",
     "output_type": "stream",
     "text": [
      "['square_feet^1', 'square_feet^2', 'square_feet^3', 'floor_count^1', 'floor_count^2']\n"
     ]
    }
   ],
   "source": [
    "top = []\n",
    "for i in range(5):\n",
    "    feature_name = sorted_features_corr_dict[i][0]\n",
    "    top.append(feature_name)\n",
    "    \n",
    "print(top)"
   ]
  },
  {
   "cell_type": "markdown",
   "metadata": {},
   "source": [
    "As we can see this procedure does not give additional highly correlated features, it just uses most correlated features and only their powers."
   ]
  },
  {
   "cell_type": "code",
   "execution_count": null,
   "metadata": {},
   "outputs": [],
   "source": [
    "train_data_electricity.to_csv('./tables/train_data_electricity.csv', sep=',', index=False)\n",
    "train_data_chilledWater.to_csv('./tables/train_data_chilledWater.csv', sep=',', index=False)\n",
    "train_data_steam.to_csv('./tables/train_data_steam.csv', sep=',', index=False)\n",
    "train_data_hotWater.to_csv('./tables/train_data_hotWater.csv', sep=',', index=False)\n",
    "\n",
    "test_data_electricity.to_csv('./tables/test_data_electricity.csv', sep=',', index=False)\n",
    "test_data_chilledWater.to_csv('./tables/test_data_chilledWater.csv', sep=',', index=False)\n",
    "test_data_steam.to_csv('./tables/test_data_steam.csv', sep=',', index=False)\n",
    "test_data_hotWater.to_csv('./tables/test_data_hotWater.csv', sep=',', index=False)"
   ]
  },
  {
   "cell_type": "markdown",
   "metadata": {},
   "source": [
    "## Metrics"
   ]
  },
  {
   "cell_type": "markdown",
   "metadata": {},
   "source": [
    "The evaluation metric for this competition is **Mean Squared Logarithmic Error (MSLE)**.\n",
    "\n",
    "The MSLE is calculated as $MSLE = \\frac{1}{n} \\sum_{i=1}^{n}\\left(\\log \\left(p_{i}+1\\right)-\\log \\left(a_{i}+1\\right)\\right)^{2}$"
   ]
  },
  {
   "cell_type": "markdown",
   "metadata": {},
   "source": [
    "We have chosen RMSLE not to penalize huge differences in the predicted and the actual values when both predicted and true values are huge numbers (in this dataset they might go up to around 7 thousand kw/h). What is more, for this paticular problem overestimating meter readings is better than underestimating them since the goal is to find how much imporovements of buildings helped reduce their energy consumption. In this case again RMSLE is more appropriate than MSE."
   ]
  }
 ],
 "metadata": {
  "celltoolbar": "Create Assignment",
  "kernelspec": {
   "display_name": "Python 3",
   "language": "python",
   "name": "python3"
  },
  "language_info": {
   "codemirror_mode": {
    "name": "ipython",
    "version": 3
   },
   "file_extension": ".py",
   "mimetype": "text/x-python",
   "name": "python",
   "nbconvert_exporter": "python",
   "pygments_lexer": "ipython3",
   "version": "3.7.3"
  }
 },
 "nbformat": 4,
 "nbformat_minor": 2
}
