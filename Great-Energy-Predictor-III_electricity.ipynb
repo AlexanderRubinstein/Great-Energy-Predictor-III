{
 "cells": [
  {
   "cell_type": "code",
   "execution_count": null,
   "metadata": {},
   "outputs": [],
   "source": [
    "energy_type = 'electricity'"
   ]
  },
  {
   "cell_type": "code",
   "execution_count": null,
   "metadata": {},
   "outputs": [],
   "source": [
    "# work with data\n",
    "import pandas as pd\n",
    "import numpy as np\n",
    "\n",
    "# ML models\n",
    "from sklearn.preprocessing import OneHotEncoder, StandardScaler, FunctionTransformer\n",
    "from sklearn.compose import ColumnTransformer\n",
    "from sklearn.impute import SimpleImputer\n",
    "from sklearn.pipeline import Pipeline, FeatureUnion\n",
    "from sklearn.ensemble import RandomForestRegressor\n",
    "from sklearn.linear_model import LinearRegression, Ridge, Lasso, LassoCV, RidgeCV\n",
    "from sklearn.model_selection import GridSearchCV, train_test_split\n",
    "from sklearn.metrics import mean_squared_log_error, r2_score\n",
    "\n",
    "random_state = 42\n",
    "\n",
    "# technical issues\n",
    "import os\n",
    "%matplotlib inline"
   ]
  },
  {
   "cell_type": "code",
   "execution_count": null,
   "metadata": {},
   "outputs": [],
   "source": [
    "train_data = pd.read_csv('tables' + os.sep + 'train_data_' + energy_type + '.csv')\n",
    "train_data"
   ]
  },
  {
   "cell_type": "code",
   "execution_count": null,
   "metadata": {},
   "outputs": [],
   "source": [
    "test_data = pd.read_csv('tables' + os.sep + 'test_data_' + energy_type + '.csv')\n",
    "test_data"
   ]
  },
  {
   "cell_type": "markdown",
   "metadata": {},
   "source": [
    "## ML Models"
   ]
  },
  {
   "cell_type": "markdown",
   "metadata": {},
   "source": [
    "### Preprocessing"
   ]
  },
  {
   "cell_type": "code",
   "execution_count": null,
   "metadata": {},
   "outputs": [],
   "source": [
    "def make_pipeline(model):\n",
    "    numeric_features = ['square_feet', 'year_built']\n",
    "    numeric_transformer = Pipeline(steps=[\n",
    "        ('imputer', SimpleImputer(strategy='median')),\n",
    "        ('scaler', StandardScaler())])\n",
    "\n",
    "    categorical_features = ['month', 'day', 'hour', 'site_id', 'primary_use']\n",
    "    categorical_transformer = Pipeline(steps=[\n",
    "        ('imputer', SimpleImputer(strategy='constant', fill_value=0)),\n",
    "        ('onehot', OneHotEncoder(handle_unknown='ignore'))])\n",
    "\n",
    "    preprocessor = ColumnTransformer(\n",
    "        transformers=[\n",
    "            ('num', numeric_transformer, numeric_features),\n",
    "            ('cat', categorical_transformer, categorical_features)])\n",
    "\n",
    "    pipe = Pipeline(steps=[('preprocessor', preprocessor),\n",
    "                      ('regressor', model)])\n",
    "    return pipe\n",
    "\n",
    "\n",
    "def manual_split(X, y, train_size=0.8):\n",
    "    X_train, X_valid = X[:int(train_size*X.shape[0])], X[int(train_size*X.shape[0]):]\n",
    "    y_train, y_valid = y[:int(train_size*X.shape[0])], target[int(train_size*X.shape[0]):]\n",
    "    return X_train, X_valid, y_train, y_valid\n",
    "\n",
    "\n",
    "def run_grid_search(X, y, model, param_grid):\n",
    "    pipe = make_pipeline(model)\n",
    "    grid_search = GridSearchCV(pipe, param_grid, cv=5, n_jobs=-1, scoring='r2')\n",
    "    grid_search.fit(X, y)\n",
    "    print(\"Best parameter (CV score=%0.3f):\" % grid_search.best_score_)\n",
    "    print(grid_search.best_params_)\n",
    "    \n",
    "    return grid_search\n",
    "\n",
    "def full_procedure(X_train, X_test, y_train, model, param_grid, with_grid_search=False):\n",
    "    if with_grid_search:\n",
    "        grid_search = run_grid_search(X_train, y_train, model, param_grid)\n",
    "        y_pred = grid_search.predict(X_test)\n",
    "        y_pred[y_pred<0] = 0\n",
    "    else:\n",
    "        pipe = make_pipeline(model=model)\n",
    "        pipe.fit(X_train, y_train)\n",
    "        y_pred = pipe.predict(X_test)\n",
    "        y_pred[y_pred<0] = 0\n",
    "        \n",
    "    return y_pred"
   ]
  },
  {
   "cell_type": "code",
   "execution_count": null,
   "metadata": {},
   "outputs": [],
   "source": [
    "def FeaturesTargetSplit(data):\n",
    "    target = data['meter_reading']\n",
    "    features = data.drop(['meter_reading'], axis=1)\n",
    "    \n",
    "    return features, target"
   ]
  },
  {
   "cell_type": "markdown",
   "metadata": {},
   "source": [
    "### Linear Model"
   ]
  },
  {
   "cell_type": "code",
   "execution_count": null,
   "metadata": {},
   "outputs": [],
   "source": [
    "submission = pd.DataFrame(columns=['row_id', 'meter_reading'])"
   ]
  },
  {
   "cell_type": "code",
   "execution_count": null,
   "metadata": {},
   "outputs": [],
   "source": [
    "param_grid_linear = {'regressor__alpha': np.logspace(0, 1, 1)}\n",
    "\n",
    "for primary_use in train_data['primary_use'].unique():\n",
    "    features, target = FeaturesTargetSplit(train_data[train_data['primary_use'] == primary_use])\n",
    "    y_pred = full_procedure(features, test_data[test_data['primary_use'] == primary_use].drop(['row_id'], axis=1), target, Lasso(), param_grid_linear, with_grid_search=True)\n",
    "    \n",
    "    results = pd.DataFrame(columns=['row_id', 'meter_reading'])\n",
    "    results['row_id'] = test_data[test_data['primary_use'] == primary_use]['row_id']\n",
    "    results['meter_reading'] = y_pred\n",
    "    submission = submission.append(results, ignore_index = True)\n",
    "    print(primary_use, ': OK')"
   ]
  },
  {
   "cell_type": "code",
   "execution_count": null,
   "metadata": {},
   "outputs": [],
   "source": [
    "submission"
   ]
  },
  {
   "cell_type": "code",
   "execution_count": null,
   "metadata": {},
   "outputs": [],
   "source": [
    "def TruncFour(number):\n",
    "    return int(number * 10000) / 10000.0\n",
    "submission['meter_reading'] = submission['meter_reading'].apply(TruncFour)"
   ]
  },
  {
   "cell_type": "code",
   "execution_count": null,
   "metadata": {},
   "outputs": [],
   "source": [
    "submission.head()"
   ]
  },
  {
   "cell_type": "code",
   "execution_count": null,
   "metadata": {},
   "outputs": [],
   "source": [
    "submission.to_csv('./submission_' + energy_type + '.csv', sep=',', index=False)"
   ]
  }
 ],
 "metadata": {
  "kernelspec": {
   "display_name": "Python 3",
   "language": "python",
   "name": "python3"
  },
  "language_info": {
   "codemirror_mode": {
    "name": "ipython",
    "version": 3
   },
   "file_extension": ".py",
   "mimetype": "text/x-python",
   "name": "python",
   "nbconvert_exporter": "python",
   "pygments_lexer": "ipython3",
   "version": "3.7.3"
  }
 },
 "nbformat": 4,
 "nbformat_minor": 2
}
