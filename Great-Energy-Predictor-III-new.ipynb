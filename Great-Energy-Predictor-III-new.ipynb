{
 "cells": [
  {
   "cell_type": "markdown",
   "metadata": {},
   "source": [
    "## Description"
   ]
  },
  {
   "cell_type": "markdown",
   "metadata": {},
   "source": [
    "### Problem"
   ]
  },
  {
   "cell_type": "markdown",
   "metadata": {},
   "source": [
    "#### Objective:\n",
    "Energy savings is one of the important area of focus our current world. Energy savings has two key elements:\n",
    "\n",
    "* Forecasting future energy usage without improvements\n",
    "* Forecasting energy use after a specific set of improvements have been implemented\n",
    "\n",
    "Once we have implemented a set of improvements, the value of energy efficiency improvements can be challenging as there's no way to truly know **how much energy a building would have used without the improvements**. The best we can do is to build counterfactual models. \n",
    "\n",
    "We build these counterfactual models across four energy types:\n",
    "* **chilled water**\n",
    "* **electricity**\n",
    "* **hot water**\n",
    "* **steam**\n",
    "\n",
    "based on historic usage rates and observed weather."
   ]
  },
  {
   "cell_type": "markdown",
   "metadata": {},
   "source": [
    "### Data"
   ]
  },
  {
   "cell_type": "markdown",
   "metadata": {},
   "source": [
    "#### Dataset:\n",
    "The dataset includes three years of hourly meter readings from over one thousand buildings at several different sites around the world.\n",
    "\n",
    "##### train.csv\n",
    "\n",
    "* `building_id` - Foreign key for the building metadata.\n",
    "* `meter` - The meter id code. Read as {0: electricity, 1: chilledwater, 2: steam, 3: hotwater}. Not every building has all meter types.\n",
    "* `timestamp` - When the measurement was taken\n",
    "* `meter_reading` - The target variable. Energy consumption in kWh (or equivalent). Note that this is real data with measurement error, which we expect will impose a baseline level of modeling error.\n",
    "\n",
    "##### building_meta.csv\n",
    "\n",
    "* `site_id` - Foreign key for the weather files.\n",
    "* `building_id` - Foreign key for training.csv\n",
    "* `primary_use` - Indicator of the primary category of activities for the building based on EnergyStar property type definitions\n",
    "* `square_feet` - Gross floor area of the building\n",
    "* `year_built` - Year building was opened\n",
    "* `floor_count` - Number of floors of the building\n",
    "\n",
    "##### weather_[train/test].csv\n",
    "\n",
    "Weather data from a meteorological station as close as possible to the site.\n",
    "\n",
    "* `site_id`\n",
    "* `air_temperature` - Degrees Celsius\n",
    "* `cloud_coverage` - Portion of the sky covered in clouds, in oktas\n",
    "* `dew_temperature` - Degrees Celsius\n",
    "* `precip_depth_1_hr` - Millimeters\n",
    "* `sea_level_pressure` - Millibar/hectopascals\n",
    "* `wind_direction` - Compass direction (0-360)\n",
    "* `wind_speed` - Meters per second\n",
    "\n",
    "##### test.csv\n",
    "\n",
    "The submission files use row numbers for ID codes in order to save space on the file uploads. test.csv has no feature data; it exists so you can get your predictions into the correct order.\n",
    "\n",
    "* `row_id` - Row id for your submission file\n",
    "* `building_id` - Building id code\n",
    "* `meter` - The meter id code\n",
    "* `timestamp` - Timestamps for the test data period"
   ]
  },
  {
   "cell_type": "markdown",
   "metadata": {},
   "source": [
    "## Loading Data"
   ]
  },
  {
   "cell_type": "markdown",
   "metadata": {},
   "source": [
    "#### TO DO:\n",
    "\n",
    "* load data tables\n",
    "\n",
    "\n",
    "* join train and metadata tables\n",
    "* join train and weather tables"
   ]
  },
  {
   "cell_type": "code",
   "execution_count": 1,
   "metadata": {},
   "outputs": [],
   "source": [
    "import pandas as pd\n",
    "import os"
   ]
  },
  {
   "cell_type": "code",
   "execution_count": null,
   "metadata": {},
   "outputs": [],
   "source": [
    "%%time\n",
    "building_metadata = pd.read_csv('data' + os.sep + 'building_metadata.csv')"
   ]
  },
  {
   "cell_type": "code",
   "execution_count": null,
   "metadata": {},
   "outputs": [],
   "source": [
    "%%time\n",
    "train = pd.read_csv('data' + os.sep + 'train.csv')"
   ]
  },
  {
   "cell_type": "code",
   "execution_count": null,
   "metadata": {},
   "outputs": [],
   "source": [
    "%%time\n",
    "test = pd.read_csv('data' + os.sep + 'test.csv')"
   ]
  },
  {
   "cell_type": "code",
   "execution_count": null,
   "metadata": {},
   "outputs": [],
   "source": [
    "# weather_train = pd.read_csv('data' + os.sep + 'weather_train.csv')"
   ]
  },
  {
   "cell_type": "code",
   "execution_count": null,
   "metadata": {},
   "outputs": [],
   "source": [
    "# weather_test = pd.read_csv('data' + os.sep + 'weather_test.csv')"
   ]
  },
  {
   "cell_type": "code",
   "execution_count": null,
   "metadata": {},
   "outputs": [],
   "source": [
    "# rename timestamps columns\n",
    "# train.columns = ['building_id', 'meter', 'timestamp_meter', 'meter_reading']\n",
    "# test.columns = ['row_id', 'building_id', 'meter', 'timestamp_meter']\n",
    "\n",
    "# weather_train.columns = ['site_id', 'timestamp_weather', 'air_temperature', 'cloud_coverage', 'dew_temperature', \\\n",
    "#                         'precip_depth_1_hr', 'sea_level_pressure', 'wind_direction', 'wind_speed']\n",
    "# weather_test.columns = ['site_id', 'timestamp_weather', 'air_temperature', 'cloud_coverage', 'dew_temperature', \\\n",
    "#                         'precip_depth_1_hr', 'sea_level_pressure', 'wind_direction', 'wind_speed']"
   ]
  },
  {
   "cell_type": "code",
   "execution_count": null,
   "metadata": {},
   "outputs": [],
   "source": [
    "test_data = building_metadata.copy()\n",
    "train_data = building_metadata.copy()"
   ]
  },
  {
   "cell_type": "code",
   "execution_count": null,
   "metadata": {
    "scrolled": true
   },
   "outputs": [],
   "source": [
    "test_data = test_data.join(test.set_index('building_id'), on='building_id', how='inner')\n",
    "test_data.head()"
   ]
  },
  {
   "cell_type": "code",
   "execution_count": null,
   "metadata": {},
   "outputs": [],
   "source": [
    "test_data.shape"
   ]
  },
  {
   "cell_type": "code",
   "execution_count": null,
   "metadata": {
    "scrolled": false
   },
   "outputs": [],
   "source": [
    "train_data = train_data.join(train.set_index('building_id'), on='building_id', how='inner')\n",
    "train_data.head()"
   ]
  },
  {
   "cell_type": "code",
   "execution_count": null,
   "metadata": {},
   "outputs": [],
   "source": [
    "train_data.shape"
   ]
  },
  {
   "cell_type": "code",
   "execution_count": null,
   "metadata": {},
   "outputs": [],
   "source": [
    "# train_data = train_data.join(weather_train.set_index('site_id'), on='site_id', how='inner')"
   ]
  },
  {
   "cell_type": "code",
   "execution_count": null,
   "metadata": {},
   "outputs": [],
   "source": [
    "# test_data = test_data.join(weather_test.set_index('site_id'), on='site_id', how='inner')"
   ]
  },
  {
   "cell_type": "markdown",
   "metadata": {},
   "source": [
    "## Preprocessing"
   ]
  },
  {
   "cell_type": "markdown",
   "metadata": {},
   "source": [
    "### Data Cleaning"
   ]
  },
  {
   "cell_type": "code",
   "execution_count": null,
   "metadata": {},
   "outputs": [],
   "source": [
    "# import numpy as np"
   ]
  },
  {
   "cell_type": "markdown",
   "metadata": {
    "nbgrader": {
     "grade": false,
     "grade_id": "cell-6ad9385669a931bb",
     "locked": false,
     "schema_version": 3,
     "solution": true,
     "task": false
    }
   },
   "source": [
    "#### TO DO:\n",
    "\n",
    "* NaNs counting\n",
    "* How to fill in the blanks?\n",
    "\n",
    "\n",
    "* Some columns processing (LabelEncoder)\n",
    "* Split table into features and targets"
   ]
  },
  {
   "cell_type": "code",
   "execution_count": null,
   "metadata": {},
   "outputs": [],
   "source": [
    "# import matplotlib.pyplot as plt\n",
    "# %matplotlib inline\n",
    "# import seaborn as sns"
   ]
  },
  {
   "cell_type": "code",
   "execution_count": null,
   "metadata": {},
   "outputs": [],
   "source": [
    "# from sklearn.preprocessing import LabelEncoder"
   ]
  },
  {
   "cell_type": "markdown",
   "metadata": {},
   "source": [
    "### Statistics"
   ]
  },
  {
   "cell_type": "markdown",
   "metadata": {},
   "source": [
    "#### TO DO:\n",
    "\n",
    "* correlation of features between themselves\n",
    "* correlation of features with target values\n",
    "* draw histograms, barcharts, ...\n",
    "\n",
    "\n",
    "* drop unnecessary columns or join some features\n",
    "* drop data outliers (data.column.quantile)"
   ]
  },
  {
   "cell_type": "markdown",
   "metadata": {},
   "source": [
    "## Metrics"
   ]
  },
  {
   "cell_type": "markdown",
   "metadata": {},
   "source": [
    "#### TO DO:\n",
    "\n",
    "* check unbalancing!\n",
    "* What metrics will we use and why?"
   ]
  },
  {
   "cell_type": "code",
   "execution_count": null,
   "metadata": {},
   "outputs": [],
   "source": [
    "# from sklearn.metrics import ..."
   ]
  },
  {
   "cell_type": "markdown",
   "metadata": {},
   "source": [
    "## ML models"
   ]
  },
  {
   "cell_type": "markdown",
   "metadata": {},
   "source": [
    "### Preprocessing"
   ]
  },
  {
   "cell_type": "markdown",
   "metadata": {},
   "source": [
    "#### TO DO:\n",
    "\n",
    "* split into train (80%) and test (val) (20%)\n",
    "* OneHotEncoding for categorial features\n",
    "* normalize (standardize) data"
   ]
  },
  {
   "cell_type": "code",
   "execution_count": null,
   "metadata": {
    "nbgrader": {
     "grade": false,
     "grade_id": "cell-6f92413f3c0be42b",
     "locked": false,
     "schema_version": 3,
     "solution": true,
     "task": false
    }
   },
   "outputs": [],
   "source": [
    "# from sklearn.model_selection import train_test_split"
   ]
  },
  {
   "cell_type": "code",
   "execution_count": null,
   "metadata": {},
   "outputs": [],
   "source": [
    "# from sklearn.preprocessing import OneHotEncoder\n",
    "# from sklearn.preprocessing import StandardScaler"
   ]
  },
  {
   "cell_type": "markdown",
   "metadata": {},
   "source": [
    "### Linear model"
   ]
  },
  {
   "cell_type": "markdown",
   "metadata": {},
   "source": [
    "#### TO DO:\n",
    "\n",
    "* Choose some linear models\n",
    "* Find a good combination of hyperparameters via cross-validation\n",
    "* plot dependency between score and some hyperparameter"
   ]
  },
  {
   "cell_type": "code",
   "execution_count": null,
   "metadata": {},
   "outputs": [],
   "source": [
    "# from sklearn.linear_model import ???LogisticRegression\n",
    "#???? from sklearn.model_selection import StratifiedKFold\n",
    "# from sklearn.model_selection import GridSearchCV"
   ]
  },
  {
   "cell_type": "markdown",
   "metadata": {},
   "source": [
    "### Classifier model"
   ]
  },
  {
   "cell_type": "markdown",
   "metadata": {},
   "source": [
    "#### TO DO:\n",
    "\n",
    "* Choose some model (KNN or RandomForest)\n",
    "* Find a good combination of hyperparameters via cross-validation\n",
    "* plot dependency between score and some hyperparameter"
   ]
  },
  {
   "cell_type": "code",
   "execution_count": null,
   "metadata": {},
   "outputs": [],
   "source": [
    "# ???sklearn.neighbors import KNeighborsClassifier\n",
    "# ???from sklearn.ensemble import RandomForestClassifier"
   ]
  },
  {
   "cell_type": "markdown",
   "metadata": {},
   "source": [
    "## Analyzing of results"
   ]
  },
  {
   "cell_type": "markdown",
   "metadata": {},
   "source": [
    "#### TO DO:\n",
    "\n",
    "* Make `test.csv` files with our results\n",
    "* send them into Kaggle in turn"
   ]
  },
  {
   "cell_type": "markdown",
   "metadata": {},
   "source": [
    "### Comparison of models"
   ]
  },
  {
   "cell_type": "markdown",
   "metadata": {},
   "source": [
    "#### TO DO:\n",
    "\n",
    "* Compare results of Linear and Classifier models (take test scores from kaggle)\n",
    "* Write conclusion"
   ]
  }
 ],
 "metadata": {
  "celltoolbar": "Create Assignment",
  "kernelspec": {
   "display_name": "Python 3",
   "language": "python",
   "name": "python3"
  },
  "language_info": {
   "codemirror_mode": {
    "name": "ipython",
    "version": 3
   },
   "file_extension": ".py",
   "mimetype": "text/x-python",
   "name": "python",
   "nbconvert_exporter": "python",
   "pygments_lexer": "ipython3",
   "version": "3.7.3"
  }
 },
 "nbformat": 4,
 "nbformat_minor": 2
}
